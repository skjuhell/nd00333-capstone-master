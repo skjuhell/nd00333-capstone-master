{
  "cells": [
    {
      "cell_type": "markdown",
      "source": [
        "# Automated ML\n",
        "\n",
        "TODO: Import Dependencies. In the cell below, import all the dependencies that you will need to complete the project."
      ],
      "metadata": {
        "id": "-UbcJPDLQfAB"
      }
    },
    {
      "cell_type": "code",
      "source": [
        "import logging\n",
        "import os\n",
        "\n",
        "import azureml.core\n",
        "from azureml.core.experiment import Experiment\n",
        "from azureml.core.workspace import Workspace\n",
        "from azureml.train.automl import AutoMLConfig\n",
        "from azureml.core.dataset import Dataset\n",
        "from azureml.data.dataset_factory import TabularDatasetFactory\n",
        "\n",
        "from sklearn.model_selection import train_test_split"
      ],
      "outputs": [],
      "execution_count": 2,
      "metadata": {
        "gather": {
          "logged": 1704281538014
        },
        "jupyter": {
          "outputs_hidden": false,
          "source_hidden": false
        },
        "nteract": {
          "transient": {
            "deleting": false
          }
        },
        "id": "1o73SbzZQfAB"
      }
    },
    {
      "cell_type": "markdown",
      "source": [
        "## Dataset\n",
        "\n",
        "### Overview\n",
        "This model will predict median house value from kaggle's data set \"Calofornia housing\"\n"
      ],
      "metadata": {
        "id": "abcMApzQQfAB"
      }
    },
    {
      "cell_type": "markdown",
      "source": [
        "### Workspace Set Up and Initialize an Experiment"
      ],
      "metadata": {
        "nteract": {
          "transient": {
            "deleting": false
          }
        }
      }
    },
    {
      "cell_type": "code",
      "source": [
        "ws = Workspace.from_config()\n",
        "print(ws.name, ws.resource_group, ws.location, ws.subscription_id, sep = '\\n')"
      ],
      "outputs": [
        {
          "output_type": "stream",
          "name": "stdout",
          "text": "quick-starts-ws-247912\naml-quickstarts-247912\nsouthcentralus\n48a74bb7-9950-4cc1-9caa-5d50f995cc55\n"
        }
      ],
      "execution_count": 4,
      "metadata": {
        "gather": {
          "logged": 1704281551726
        },
        "jupyter": {
          "outputs_hidden": false,
          "source_hidden": false
        },
        "nteract": {
          "transient": {
            "deleting": false
          }
        },
        "id": "XLTZwG8RQfAB"
      }
    },
    {
      "cell_type": "code",
      "source": [
        "os.listdir(os.curdir), os.getcwd()"
      ],
      "outputs": [
        {
          "output_type": "execute_result",
          "execution_count": 5,
          "data": {
            "text/plain": "(['.amlignore',\n  '.amlignore.amltmp',\n  '.ipynb_aml_checkpoints',\n  'automl.ipynb',\n  'automl.ipynb.amltmp',\n  'automl_housing.pkl'],\n '/mnt/batch/tasks/shared/LS_root/mounts/clusters/notebook247912/code/Users/odl_user_247912/nd00333-capstone-master/nd00333-capstone-master/starter_file/automated_ml')"
          },
          "metadata": {}
        }
      ],
      "execution_count": 5,
      "metadata": {
        "collapsed": true,
        "jupyter": {
          "source_hidden": false,
          "outputs_hidden": false
        },
        "nteract": {
          "transient": {
            "deleting": false
          }
        },
        "gather": {
          "logged": 1704281557781
        }
      }
    },
    {
      "cell_type": "code",
      "source": [
        "# choose a name for experiment\n",
        "experiment_name = 'automl_housing'\n",
        "project_folder = './automl-housing'\n",
        "os.makedirs(project_folder, exist_ok=True)\n",
        "\n",
        "experiment = Experiment(ws, experiment_name)\n",
        "experiment"
      ],
      "outputs": [
        {
          "output_type": "execute_result",
          "execution_count": 6,
          "data": {
            "text/plain": "Experiment(Name: automl_housing,\nWorkspace: quick-starts-ws-247912)",
            "text/html": "<table style=\"width:100%\"><tr><th>Name</th><th>Workspace</th><th>Report Page</th><th>Docs Page</th></tr><tr><td>automl_housing</td><td>quick-starts-ws-247912</td><td><a href=\"https://ml.azure.com/experiments/id/4eeab9ad-2e39-4f60-8cef-75907d3fe8cf?wsid=/subscriptions/48a74bb7-9950-4cc1-9caa-5d50f995cc55/resourcegroups/aml-quickstarts-247912/workspaces/quick-starts-ws-247912&amp;tid=660b3398-b80e-49d2-bc5b-ac1dc93b5254\" target=\"_blank\" rel=\"noopener\">Link to Azure Machine Learning studio</a></td><td><a href=\"https://docs.microsoft.com/en-us/python/api/azureml-core/azureml.core.experiment.Experiment?view=azure-ml-py\" target=\"_blank\" rel=\"noopener\">Link to Documentation</a></td></tr></table>"
          },
          "metadata": {}
        }
      ],
      "execution_count": 6,
      "metadata": {
        "id": "rXDoY4ohQoUc",
        "gather": {
          "logged": 1704281563411
        }
      }
    },
    {
      "cell_type": "markdown",
      "source": [
        "### Create or Attach a Compute Resource"
      ],
      "metadata": {
        "nteract": {
          "transient": {
            "deleting": false
          }
        }
      }
    },
    {
      "cell_type": "code",
      "source": [
        "from azureml.core.compute import AmlCompute\n",
        "from azureml.core.compute import ComputeTarget\n",
        "from azureml.core.compute_target import ComputeTargetException\n",
        "\n",
        "# NOTE: update the cluster name to match the existing cluster\n",
        "# Choose a name for your CPU cluster\n",
        "amlcompute_cluster_name = \"notebook247912\"\n",
        "\n",
        "# Verify that cluster does not exist already\n",
        "try:\n",
        "    compute_target = ComputeTarget(workspace=ws, name=amlcompute_cluster_name)\n",
        "    print('Found existing cluster, use it.')\n",
        "except ComputeTargetException:\n",
        "    compute_config = AmlCompute.provisioning_configuration(vm_size='STANDARD_D2_V2',# for GPU, use \"STANDARD_NC6\"\n",
        "                                                           #vm_priority = 'lowpriority', # optional\n",
        "                                                           max_nodes=4)\n",
        "    compute_target = ComputeTarget.create(ws, amlcompute_cluster_name, compute_config)\n",
        "\n",
        "compute_target.wait_for_completion(show_output=True)\n",
        "# For a more detailed view of current AmlCompute status, use get_status()."
      ],
      "outputs": [
        {
          "output_type": "stream",
          "name": "stdout",
          "text": "Found existing cluster, use it.\n\nRunning\n"
        }
      ],
      "execution_count": 7,
      "metadata": {
        "id": "vphkmAuDREuy",
        "gather": {
          "logged": 1704281606082
        }
      }
    },
    {
      "cell_type": "markdown",
      "source": [
        "### Data set"
      ],
      "metadata": {
        "nteract": {
          "transient": {
            "deleting": false
          }
        }
      }
    },
    {
      "cell_type": "code",
      "source": [
        "import pandas as pd\n",
        "data = Dataset.get_by_name(ws, name='housing')\n",
        "data = data.to_pandas_dataframe()\n",
        "data"
      ],
      "outputs": [
        {
          "output_type": "execute_result",
          "execution_count": 15,
          "data": {
            "text/plain": "       longitude  latitude  housing_median_age  total_rooms  total_bedrooms  \\\n0        -122.23     37.88                41.0        880.0           129.0   \n1        -122.22     37.86                21.0       7099.0          1106.0   \n2        -122.24     37.85                52.0       1467.0           190.0   \n3        -122.25     37.85                52.0       1274.0           235.0   \n4        -122.25     37.85                52.0       1627.0           280.0   \n...          ...       ...                 ...          ...             ...   \n20635    -121.09     39.48                25.0       1665.0           374.0   \n20636    -121.21     39.49                18.0        697.0           150.0   \n20637    -121.22     39.43                17.0       2254.0           485.0   \n20638    -121.32     39.43                18.0       1860.0           409.0   \n20639    -121.24     39.37                16.0       2785.0           616.0   \n\n       population  households  median_income  median_house_value  \\\n0           322.0       126.0         8.3252            452600.0   \n1          2401.0      1138.0         8.3014            358500.0   \n2           496.0       177.0         7.2574            352100.0   \n3           558.0       219.0         5.6431            341300.0   \n4           565.0       259.0         3.8462            342200.0   \n...           ...         ...            ...                 ...   \n20635       845.0       330.0         1.5603             78100.0   \n20636       356.0       114.0         2.5568             77100.0   \n20637      1007.0       433.0         1.7000             92300.0   \n20638       741.0       349.0         1.8672             84700.0   \n20639      1387.0       530.0         2.3886             89400.0   \n\n      ocean_proximity  \n0            NEAR BAY  \n1            NEAR BAY  \n2            NEAR BAY  \n3            NEAR BAY  \n4            NEAR BAY  \n...               ...  \n20635          INLAND  \n20636          INLAND  \n20637          INLAND  \n20638          INLAND  \n20639          INLAND  \n\n[20640 rows x 10 columns]",
            "text/html": "<div>\n<style scoped>\n    .dataframe tbody tr th:only-of-type {\n        vertical-align: middle;\n    }\n\n    .dataframe tbody tr th {\n        vertical-align: top;\n    }\n\n    .dataframe thead th {\n        text-align: right;\n    }\n</style>\n<table border=\"1\" class=\"dataframe\">\n  <thead>\n    <tr style=\"text-align: right;\">\n      <th></th>\n      <th>longitude</th>\n      <th>latitude</th>\n      <th>housing_median_age</th>\n      <th>total_rooms</th>\n      <th>total_bedrooms</th>\n      <th>population</th>\n      <th>households</th>\n      <th>median_income</th>\n      <th>median_house_value</th>\n      <th>ocean_proximity</th>\n    </tr>\n  </thead>\n  <tbody>\n    <tr>\n      <th>0</th>\n      <td>-122.23</td>\n      <td>37.88</td>\n      <td>41.0</td>\n      <td>880.0</td>\n      <td>129.0</td>\n      <td>322.0</td>\n      <td>126.0</td>\n      <td>8.3252</td>\n      <td>452600.0</td>\n      <td>NEAR BAY</td>\n    </tr>\n    <tr>\n      <th>1</th>\n      <td>-122.22</td>\n      <td>37.86</td>\n      <td>21.0</td>\n      <td>7099.0</td>\n      <td>1106.0</td>\n      <td>2401.0</td>\n      <td>1138.0</td>\n      <td>8.3014</td>\n      <td>358500.0</td>\n      <td>NEAR BAY</td>\n    </tr>\n    <tr>\n      <th>2</th>\n      <td>-122.24</td>\n      <td>37.85</td>\n      <td>52.0</td>\n      <td>1467.0</td>\n      <td>190.0</td>\n      <td>496.0</td>\n      <td>177.0</td>\n      <td>7.2574</td>\n      <td>352100.0</td>\n      <td>NEAR BAY</td>\n    </tr>\n    <tr>\n      <th>3</th>\n      <td>-122.25</td>\n      <td>37.85</td>\n      <td>52.0</td>\n      <td>1274.0</td>\n      <td>235.0</td>\n      <td>558.0</td>\n      <td>219.0</td>\n      <td>5.6431</td>\n      <td>341300.0</td>\n      <td>NEAR BAY</td>\n    </tr>\n    <tr>\n      <th>4</th>\n      <td>-122.25</td>\n      <td>37.85</td>\n      <td>52.0</td>\n      <td>1627.0</td>\n      <td>280.0</td>\n      <td>565.0</td>\n      <td>259.0</td>\n      <td>3.8462</td>\n      <td>342200.0</td>\n      <td>NEAR BAY</td>\n    </tr>\n    <tr>\n      <th>...</th>\n      <td>...</td>\n      <td>...</td>\n      <td>...</td>\n      <td>...</td>\n      <td>...</td>\n      <td>...</td>\n      <td>...</td>\n      <td>...</td>\n      <td>...</td>\n      <td>...</td>\n    </tr>\n    <tr>\n      <th>20635</th>\n      <td>-121.09</td>\n      <td>39.48</td>\n      <td>25.0</td>\n      <td>1665.0</td>\n      <td>374.0</td>\n      <td>845.0</td>\n      <td>330.0</td>\n      <td>1.5603</td>\n      <td>78100.0</td>\n      <td>INLAND</td>\n    </tr>\n    <tr>\n      <th>20636</th>\n      <td>-121.21</td>\n      <td>39.49</td>\n      <td>18.0</td>\n      <td>697.0</td>\n      <td>150.0</td>\n      <td>356.0</td>\n      <td>114.0</td>\n      <td>2.5568</td>\n      <td>77100.0</td>\n      <td>INLAND</td>\n    </tr>\n    <tr>\n      <th>20637</th>\n      <td>-121.22</td>\n      <td>39.43</td>\n      <td>17.0</td>\n      <td>2254.0</td>\n      <td>485.0</td>\n      <td>1007.0</td>\n      <td>433.0</td>\n      <td>1.7000</td>\n      <td>92300.0</td>\n      <td>INLAND</td>\n    </tr>\n    <tr>\n      <th>20638</th>\n      <td>-121.32</td>\n      <td>39.43</td>\n      <td>18.0</td>\n      <td>1860.0</td>\n      <td>409.0</td>\n      <td>741.0</td>\n      <td>349.0</td>\n      <td>1.8672</td>\n      <td>84700.0</td>\n      <td>INLAND</td>\n    </tr>\n    <tr>\n      <th>20639</th>\n      <td>-121.24</td>\n      <td>39.37</td>\n      <td>16.0</td>\n      <td>2785.0</td>\n      <td>616.0</td>\n      <td>1387.0</td>\n      <td>530.0</td>\n      <td>2.3886</td>\n      <td>89400.0</td>\n      <td>INLAND</td>\n    </tr>\n  </tbody>\n</table>\n<p>20640 rows × 10 columns</p>\n</div>"
          },
          "metadata": {}
        }
      ],
      "execution_count": 15,
      "metadata": {
        "id": "AUPACS7KRPvX",
        "gather": {
          "logged": 1704282291496
        }
      }
    },
    {
      "cell_type": "code",
      "source": [
        "def prepare_data(data):    \n",
        "    encoded_column=pd.get_dummies(data['ocean_proximity'], prefix='ocp')\n",
        "    data=data.join(encoded_column)\n",
        "    data=data.drop(\"ocean_proximity\", axis=1)\n",
        "\n",
        "    train, test = train_test_split(data, test_size=0.2, random_state=42)\n",
        "    return train, test\n",
        "\n",
        "train, test = prepare_data(data)\n",
        "type(train), type(test), train.shape, test.shape"
      ],
      "outputs": [
        {
          "output_type": "execute_result",
          "execution_count": 16,
          "data": {
            "text/plain": "(pandas.core.frame.DataFrame,\n pandas.core.frame.DataFrame,\n (16512, 14),\n (4128, 14))"
          },
          "metadata": {}
        }
      ],
      "execution_count": 16,
      "metadata": {
        "id": "bqAQjCSESW7I",
        "gather": {
          "logged": 1704282297301
        }
      }
    },
    {
      "cell_type": "code",
      "source": [
        "columns=train.columns\n",
        "train.to_csv(path_or_buf='trainset.csv', columns=columns, header=True, index=False) \n",
        "test.to_csv(path_or_buf='testset.csv', columns=columns, header=True, index=False)"
      ],
      "outputs": [],
      "execution_count": 17,
      "metadata": {
        "id": "SRLNnxw0S-P7",
        "gather": {
          "logged": 1704282304894
        }
      }
    },
    {
      "cell_type": "code",
      "source": [
        "datastore=ws.get_default_datastore() \n",
        "datastore.upload_files(['trainset.csv'])"
      ],
      "outputs": [
        {
          "output_type": "stream",
          "name": "stderr",
          "text": "\"datastore.upload_files\" is deprecated after version 1.0.69. Please use \"FileDatasetFactory.upload_directory\" instead. See Dataset API change notice at https://aka.ms/dataset-deprecation.\n"
        },
        {
          "output_type": "stream",
          "name": "stdout",
          "text": "Uploading an estimated of 1 files\nUploading trainset.csv\nUploaded trainset.csv, 1 files out of an estimated total of 1\nUploaded 1 files\n"
        },
        {
          "output_type": "execute_result",
          "execution_count": 18,
          "data": {
            "text/plain": "$AZUREML_DATAREFERENCE_workspaceblobstore"
          },
          "metadata": {}
        }
      ],
      "execution_count": 18,
      "metadata": {
        "id": "VnB10S9ES-aX",
        "gather": {
          "logged": 1704282311512
        }
      }
    },
    {
      "cell_type": "code",
      "source": [
        "train=TabularDatasetFactory.from_delimited_files([(datastore, 'trainset.csv')])\n",
        "\n",
        "datastore.upload_files(['testset.csv'])"
      ],
      "outputs": [
        {
          "output_type": "stream",
          "name": "stdout",
          "text": "Uploading an estimated of 1 files\nUploading testset.csv\nUploaded testset.csv, 1 files out of an estimated total of 1\nUploaded 1 files\n"
        },
        {
          "output_type": "execute_result",
          "execution_count": 19,
          "data": {
            "text/plain": "$AZUREML_DATAREFERENCE_workspaceblobstore"
          },
          "metadata": {}
        }
      ],
      "execution_count": 19,
      "metadata": {
        "id": "cHzbj8V9TL_q",
        "gather": {
          "logged": 1704282322995
        }
      }
    },
    {
      "cell_type": "code",
      "source": [
        "test=TabularDatasetFactory.from_delimited_files([(datastore, 'testset.csv')])"
      ],
      "outputs": [],
      "execution_count": 20,
      "metadata": {
        "id": "4Z2fiA3BTMJv",
        "gather": {
          "logged": 1704282330197
        }
      }
    },
    {
      "cell_type": "markdown",
      "source": [
        "## AutoML Configuration\n",
        "\n",
        "Since we are trying to predict a numeric value, in particular, \"median_house_values\", we have to define the task as \"regression\". Featurization is set to \"auto\" and we enable early stopping to avoid overfitting. We pass in our train and test sets and choose \"normalized_mean_absolute_error\" as the primary metric."
      ],
      "metadata": {
        "id": "bq6zzU7MQfAB"
      }
    },
    {
      "cell_type": "code",
      "source": [
        "azureml.train.automl.utilities.get_primary_metrics(\"regression\")"
      ],
      "outputs": [
        {
          "output_type": "execute_result",
          "execution_count": 21,
          "data": {
            "text/plain": "['r2_score',\n 'spearman_correlation',\n 'normalized_mean_absolute_error',\n 'normalized_root_mean_squared_error']"
          },
          "metadata": {}
        }
      ],
      "execution_count": 21,
      "metadata": {
        "collapsed": true,
        "jupyter": {
          "source_hidden": false,
          "outputs_hidden": false
        },
        "nteract": {
          "transient": {
            "deleting": false
          }
        },
        "gather": {
          "logged": 1704282333554
        }
      }
    },
    {
      "cell_type": "code",
      "source": [
        "\n",
        "automl_setting={\n",
        "    \"featurization\": \"auto\",\n",
        "    \"experiment_timeout_minutes\": 30,\n",
        "    \"enable_early_stopping\": True,\n",
        "    \"verbosity\": logging.INFO,\n",
        "    \"compute_target\": compute_target\n",
        "}\n",
        "\n",
        "task=\"regression\" \n",
        "automl_config = AutoMLConfig( \n",
        "    task=task, \n",
        "    primary_metric='normalized_root_mean_squared_error', \n",
        "    training_data=train, \n",
        "    validation_data = test, \n",
        "    label_column_name='median_house_value', \n",
        "    **automl_setting\n",
        ")"
      ],
      "outputs": [],
      "execution_count": 22,
      "metadata": {
        "gather": {
          "logged": 1704282347705
        },
        "jupyter": {
          "outputs_hidden": false,
          "source_hidden": false
        },
        "nteract": {
          "transient": {
            "deleting": false
          }
        },
        "id": "Tq7z42nVQfAB"
      }
    },
    {
      "cell_type": "markdown",
      "source": [
        "## Submit Run & Run Details\n",
        "\n",
        "OPTIONAL: Write about the different models trained and their performance. Why do you think some models did better than others?\n",
        "\n",
        "TODO: In the cell below, use the `RunDetails` widget to show the different experiments."
      ],
      "metadata": {
        "nteract": {
          "transient": {
            "deleting": false
          }
        }
      }
    },
    {
      "cell_type": "code",
      "source": [
        "# TODO: Submit your experiment\n",
        "from azureml.widgets import RunDetails\n",
        "\n",
        "automl_run = experiment.submit(automl_config, show_output=True)\n",
        "\n",
        "RunDetails(automl_run).show()"
      ],
      "outputs": [
        {
          "output_type": "stream",
          "name": "stdout",
          "text": "Submitting remote run.\nNo run_configuration provided, running on notebook247912 with default configuration\nRunning on remote compute: notebook247912\n"
        },
        {
          "output_type": "display_data",
          "data": {
            "text/html": "<table style=\"width:100%\"><tr><th>Experiment</th><th>Id</th><th>Type</th><th>Status</th><th>Details Page</th><th>Docs Page</th></tr><tr><td>automl_housing</td><td>AutoML_dfc2bed6-b984-490e-ae53-7f0c1d8bf704</td><td>automl</td><td>NotStarted</td><td><a href=\"https://ml.azure.com/runs/AutoML_dfc2bed6-b984-490e-ae53-7f0c1d8bf704?wsid=/subscriptions/48a74bb7-9950-4cc1-9caa-5d50f995cc55/resourcegroups/aml-quickstarts-247912/workspaces/quick-starts-ws-247912&amp;tid=660b3398-b80e-49d2-bc5b-ac1dc93b5254\" target=\"_blank\" rel=\"noopener\">Link to Azure Machine Learning studio</a></td><td><a href=\"https://docs.microsoft.com/en-us/python/api/overview/azure/ml/intro?view=azure-ml-py\" target=\"_blank\" rel=\"noopener\">Link to Documentation</a></td></tr></table>"
          },
          "metadata": {}
        },
        {
          "output_type": "stream",
          "name": "stdout",
          "text": "\nCurrent status: FeaturesGeneration. Generating features for the dataset.\nCurrent status: DatasetFeaturizationCompleted. Completed fit featurizers and featurizing the dataset.\nCurrent status: ModelSelection. Beginning model selection.\n\n********************************************************************************************\nDATA GUARDRAILS: \n\nTYPE:         Missing feature values imputation\nSTATUS:       PASSED\nDESCRIPTION:  No feature missing values were detected in the training data.\n              Learn more about missing value imputation: https://aka.ms/AutomatedMLFeaturization\n\n********************************************************************************************\n\nTYPE:         High cardinality feature detection\nSTATUS:       PASSED\nDESCRIPTION:  Your inputs were analyzed, and no high cardinality features were detected.\n              Learn more about high cardinality feature handling: https://aka.ms/AutomatedMLFeaturization\n\n********************************************************************************************\n\n********************************************************************************************\nITER: The iteration being evaluated.\nPIPELINE: A summary description of the pipeline being evaluated.\nDURATION: Time taken for the current iteration.\nMETRIC: The result of computing score on the fitted pipeline.\nBEST: The best observed score thus far.\n********************************************************************************************\n\n ITER   PIPELINE                                       DURATION            METRIC      BEST\n    0   MaxAbsScaler LightGBM                          0:00:16             0.0993    0.0993\n    1   MaxAbsScaler XGBoostRegressor                  0:00:15             0.0978    0.0978\n    2   MaxAbsScaler ElasticNet                        0:00:13             0.1478    0.0978\n    3   RobustScaler ElasticNet                        0:00:14             0.1445    0.0978\n    4   MinMaxScaler ElasticNet                        0:00:13             0.1449    0.0978\n    5   StandardScalerWrapper ElasticNet               0:00:13             0.1444    0.0978\n    6   MinMaxScaler RandomForest                      0:00:13             0.1270    0.0978\n    7   MaxAbsScaler ElasticNet                        0:00:13             0.1468    0.0978\n    8   StandardScalerWrapper ElasticNet               0:00:13             0.1444    0.0978\n    9   MaxAbsScaler ElasticNet                        0:00:13             0.1444    0.0978\n   10   StandardScalerWrapper ElasticNet               0:00:13             0.1445    0.0978\n   11   MinMaxScaler ExtremeRandomTrees                0:00:13             0.1379    0.0978\n   12   MinMaxScaler RandomForest                      0:00:15             0.1190    0.0978\n   13   MinMaxScaler ExtremeRandomTrees                0:00:13             0.1473    0.0978\n   14   MinMaxScaler ExtremeRandomTrees                0:00:13             0.1714    0.0978\n   15   MaxAbsScaler ExtremeRandomTrees                0:00:13             0.1300    0.0978\n   16   MinMaxScaler DecisionTree                      0:00:13             0.1487    0.0978\n   17   RobustScaler ExtremeRandomTrees                0:00:13             0.1472    0.0978\n   18   RobustScaler DecisionTree                      0:00:13             0.1416    0.0978\n   19   StandardScalerWrapper GradientBoosting         0:01:19             0.1395    0.0978\n   20   StandardScalerWrapper ExtremeRandomTrees       0:00:32             0.1669    0.0978\n   21   MinMaxScaler ExtremeRandomTrees                0:00:34             0.1637    0.0978\n   22   StandardScalerWrapper ExtremeRandomTrees       0:00:32             0.1524    0.0978\n   23   StandardScalerWrapper ExtremeRandomTrees       0:00:34             0.1679    0.0978\n   24   StandardScalerWrapper ExtremeRandomTrees       0:00:31             0.1702    0.0978\n   25   SparseNormalizer XGBoostRegressor              0:00:37             0.1286    0.0978\n   26   StandardScalerWrapper RandomForest             0:00:32             0.1508    0.0978\n   27   RobustScaler ExtremeRandomTrees                0:00:33             0.1713    0.0978\n   28   StandardScalerWrapper ExtremeRandomTrees       0:00:32             0.1561    0.0978\n   29   MinMaxScaler ExtremeRandomTrees                0:00:32             0.1644    0.0978\n   30    VotingEnsemble                                0:00:43             0.0962    0.0962\n   31    StackEnsemble                                 0:00:45             0.0964    0.0962\n"
        },
        {
          "output_type": "display_data",
          "data": {
            "text/plain": "_AutoMLWidget(widget_settings={'childWidgetDisplay': 'popup', 'send_telemetry': False, 'log_level': 'INFO', 's…",
            "application/vnd.jupyter.widget-view+json": {
              "version_major": 2,
              "version_minor": 0,
              "model_id": "8ea25848247741c39116599acb56ab24"
            }
          },
          "metadata": {}
        },
        {
          "output_type": "display_data",
          "data": {
            "application/aml.mini.widget.v1": "{\"status\": \"Completed\", \"workbench_run_details_uri\": \"https://ml.azure.com/runs/AutoML_dfc2bed6-b984-490e-ae53-7f0c1d8bf704?wsid=/subscriptions/48a74bb7-9950-4cc1-9caa-5d50f995cc55/resourcegroups/aml-quickstarts-247912/workspaces/quick-starts-ws-247912&tid=660b3398-b80e-49d2-bc5b-ac1dc93b5254\", \"run_id\": \"AutoML_dfc2bed6-b984-490e-ae53-7f0c1d8bf704\", \"run_properties\": {\"run_id\": \"AutoML_dfc2bed6-b984-490e-ae53-7f0c1d8bf704\", \"created_utc\": \"2024-01-03T11:46:00.315067Z\", \"properties\": {\"num_iterations\": \"1000\", \"training_type\": \"TrainFull\", \"acquisition_function\": \"EI\", \"primary_metric\": \"normalized_root_mean_squared_error\", \"train_split\": \"0\", \"acquisition_parameter\": \"0\", \"num_cross_validation\": null, \"target\": \"notebook247912\", \"AMLSettingsJsonString\": \"{\\\"path\\\":null,\\\"name\\\":\\\"automl_housing\\\",\\\"subscription_id\\\":\\\"48a74bb7-9950-4cc1-9caa-5d50f995cc55\\\",\\\"resource_group\\\":\\\"aml-quickstarts-247912\\\",\\\"workspace_name\\\":\\\"quick-starts-ws-247912\\\",\\\"region\\\":\\\"southcentralus\\\",\\\"compute_target\\\":\\\"notebook247912\\\",\\\"spark_service\\\":null,\\\"azure_service\\\":\\\"remote\\\",\\\"many_models\\\":false,\\\"pipeline_fetch_max_batch_size\\\":1,\\\"enable_batch_run\\\":true,\\\"enable_parallel_run\\\":false,\\\"num_procs\\\":null,\\\"enable_run_restructure\\\":false,\\\"start_auxiliary_runs_before_parent_complete\\\":false,\\\"enable_code_generation\\\":true,\\\"iterations\\\":1000,\\\"primary_metric\\\":\\\"normalized_root_mean_squared_error\\\",\\\"task_type\\\":\\\"regression\\\",\\\"positive_label\\\":null,\\\"data_script\\\":null,\\\"test_size\\\":0.0,\\\"test_include_predictions_only\\\":false,\\\"validation_size\\\":0.0,\\\"n_cross_validations\\\":null,\\\"y_min\\\":null,\\\"y_max\\\":null,\\\"num_classes\\\":null,\\\"featurization\\\":\\\"auto\\\",\\\"_ignore_package_version_incompatibilities\\\":false,\\\"is_timeseries\\\":false,\\\"max_cores_per_iteration\\\":1,\\\"max_concurrent_iterations\\\":1,\\\"iteration_timeout_minutes\\\":null,\\\"mem_in_mb\\\":null,\\\"enforce_time_on_windows\\\":false,\\\"experiment_timeout_minutes\\\":30,\\\"experiment_exit_score\\\":null,\\\"partition_column_names\\\":null,\\\"whitelist_models\\\":null,\\\"blacklist_algos\\\":[\\\"TensorFlowDNN\\\",\\\"TensorFlowLinearRegressor\\\"],\\\"supported_models\\\":[\\\"SGD\\\",\\\"FastLinearRegressor\\\",\\\"OnlineGradientDescentRegressor\\\",\\\"ElasticNet\\\",\\\"LassoLars\\\",\\\"LightGBM\\\",\\\"TensorFlowLinearRegressor\\\",\\\"TabnetRegressor\\\",\\\"GradientBoosting\\\",\\\"RandomForest\\\",\\\"ExtremeRandomTrees\\\",\\\"TensorFlowDNN\\\",\\\"KNN\\\",\\\"DecisionTree\\\",\\\"XGBoostRegressor\\\"],\\\"private_models\\\":[],\\\"auto_blacklist\\\":true,\\\"blacklist_samples_reached\\\":false,\\\"exclude_nan_labels\\\":true,\\\"verbosity\\\":20,\\\"_debug_log\\\":\\\"azureml_automl.log\\\",\\\"show_warnings\\\":false,\\\"model_explainability\\\":true,\\\"service_url\\\":null,\\\"sdk_url\\\":null,\\\"sdk_packages\\\":null,\\\"enable_onnx_compatible_models\\\":false,\\\"enable_split_onnx_featurizer_estimator_models\\\":false,\\\"vm_type\\\":\\\"STANDARD_DS3_V2\\\",\\\"telemetry_verbosity\\\":20,\\\"send_telemetry\\\":true,\\\"enable_dnn\\\":false,\\\"scenario\\\":\\\"AutoML\\\",\\\"environment_label\\\":null,\\\"save_mlflow\\\":false,\\\"enable_categorical_indicators\\\":false,\\\"force_text_dnn\\\":false,\\\"enable_feature_sweeping\\\":true,\\\"enable_early_stopping\\\":true,\\\"early_stopping_n_iters\\\":10,\\\"arguments\\\":null,\\\"dataset_id\\\":\\\"a3933cff-3c0e-4214-bf1b-227797da9397\\\",\\\"hyperdrive_config\\\":null,\\\"validation_dataset_id\\\":\\\"4b302d7f-8ae5-4b7b-8b9f-59145e4b8f3e\\\",\\\"run_source\\\":null,\\\"metrics\\\":null,\\\"enable_metric_confidence\\\":false,\\\"enable_ensembling\\\":true,\\\"enable_stack_ensembling\\\":true,\\\"ensemble_iterations\\\":15,\\\"enable_tf\\\":false,\\\"enable_subsampling\\\":null,\\\"subsample_seed\\\":null,\\\"enable_nimbusml\\\":false,\\\"enable_streaming\\\":false,\\\"force_streaming\\\":false,\\\"track_child_runs\\\":true,\\\"n_best_runs\\\":1,\\\"allowed_private_models\\\":[],\\\"label_column_name\\\":\\\"median_house_value\\\",\\\"weight_column_name\\\":null,\\\"cv_split_column_names\\\":null,\\\"enable_local_managed\\\":false,\\\"_local_managed_run_id\\\":null,\\\"cost_mode\\\":1,\\\"lag_length\\\":0,\\\"metric_operation\\\":\\\"minimize\\\",\\\"preprocess\\\":true}\", \"DataPrepJsonString\": \"{\\\\\\\"training_data\\\\\\\": {\\\\\\\"datasetId\\\\\\\": \\\\\\\"a3933cff-3c0e-4214-bf1b-227797da9397\\\\\\\"}, \\\\\\\"validation_data\\\\\\\": {\\\\\\\"datasetId\\\\\\\": \\\\\\\"4b302d7f-8ae5-4b7b-8b9f-59145e4b8f3e\\\\\\\"}, \\\\\\\"datasets\\\\\\\": 0}\", \"EnableSubsampling\": null, \"runTemplate\": \"AutoML\", \"azureml.runsource\": \"automl\", \"display_task_type\": \"regression\", \"dependencies_versions\": \"{\\\"azureml-dataprep-native\\\": \\\"38.0.0\\\", \\\"azureml-dataprep\\\": \\\"4.10.8\\\", \\\"azureml-dataprep-rslex\\\": \\\"2.17.12\\\", \\\"azureml-train-automl-runtime\\\": \\\"1.51.0.post2\\\", \\\"azureml-train-automl-client\\\": \\\"1.51.0.post1\\\", \\\"azureml-training-tabular\\\": \\\"1.51.0.post1\\\", \\\"azureml-automl-runtime\\\": \\\"1.51.0.post1\\\", \\\"azureml-automl-core\\\": \\\"1.51.0.post1\\\", \\\"azureml-mlflow\\\": \\\"1.51.0\\\", \\\"azureml-datadrift\\\": \\\"1.51.0\\\", \\\"azureml-pipeline\\\": \\\"1.51.0\\\", \\\"azureml-contrib-dataset\\\": \\\"1.51.0\\\", \\\"azureml-contrib-notebook\\\": \\\"1.51.0\\\", \\\"azureml-accel-models\\\": \\\"1.51.0\\\", \\\"azureml-automl-dnn-nlp\\\": \\\"1.51.0\\\", \\\"azureml-pipeline-core\\\": \\\"1.51.0\\\", \\\"azureml-responsibleai\\\": \\\"1.51.0\\\", \\\"azureml-contrib-automl-pipeline-steps\\\": \\\"1.51.0\\\", \\\"azureml-pipeline-steps\\\": \\\"1.51.0\\\", \\\"azureml-core\\\": \\\"1.51.0\\\", \\\"azureml-contrib-reinforcementlearning\\\": \\\"1.51.0\\\", \\\"azureml-contrib-server\\\": \\\"1.51.0\\\", \\\"azureml-opendatasets\\\": \\\"1.51.0\\\", \\\"azureml-contrib-services\\\": \\\"1.51.0\\\", \\\"azureml-telemetry\\\": \\\"1.51.0\\\", \\\"azureml-train-restclients-hyperdrive\\\": \\\"1.51.0\\\", \\\"azureml-interpret\\\": \\\"1.51.0\\\", \\\"azureml-train-core\\\": \\\"1.51.0\\\", \\\"azureml-tensorboard\\\": \\\"1.51.0\\\", \\\"azureml-train\\\": \\\"1.51.0\\\", \\\"azureml-contrib-pipeline-steps\\\": \\\"1.51.0\\\", \\\"azureml-explain-model\\\": \\\"1.51.0\\\", \\\"azureml-cli-common\\\": \\\"1.51.0\\\", \\\"azureml-widgets\\\": \\\"1.51.0\\\", \\\"azureml-train-automl\\\": \\\"1.51.0\\\", \\\"azureml-defaults\\\": \\\"1.51.0\\\", \\\"azureml-contrib-fairness\\\": \\\"1.51.0\\\", \\\"azureml-sdk\\\": \\\"1.51.0\\\", \\\"azureml-dataset-runtime\\\": \\\"1.51.0\\\", \\\"azureml-inference-server-http\\\": \\\"0.8.4\\\"}\", \"_aml_system_scenario_identification\": \"Remote.Parent\", \"ClientType\": \"SDK\", \"PlatformVersion\": \"DPV1\", \"environment_cpu_name\": \"AzureML-AutoML\", \"environment_cpu_label\": \"scikit-upgrade2\", \"environment_gpu_name\": \"AzureML-AutoML-GPU\", \"environment_gpu_label\": \"scikit-upgrade2\", \"root_attribution\": \"automl\", \"attribution\": \"AutoML\", \"Orchestrator\": \"AutoML\", \"CancelUri\": \"https://southcentralus.api.azureml.ms/jasmine/v1.0/subscriptions/48a74bb7-9950-4cc1-9caa-5d50f995cc55/resourceGroups/aml-quickstarts-247912/providers/Microsoft.MachineLearningServices/workspaces/quick-starts-ws-247912/experimentids/4eeab9ad-2e39-4f60-8cef-75907d3fe8cf/cancel/AutoML_dfc2bed6-b984-490e-ae53-7f0c1d8bf704\", \"ClientSdkVersion\": null, \"snapshotId\": \"00000000-0000-0000-0000-000000000000\", \"SetupRunId\": \"AutoML_dfc2bed6-b984-490e-ae53-7f0c1d8bf704_setup\", \"SetupRunContainerId\": \"dcid.AutoML_dfc2bed6-b984-490e-ae53-7f0c1d8bf704_setup\", \"FeaturizationRunJsonPath\": \"featurizer_container.json\", \"FeaturizationRunId\": \"AutoML_dfc2bed6-b984-490e-ae53-7f0c1d8bf704_featurize\", \"ProblemInfoJsonString\": \"{\\\"dataset_num_categorical\\\": 0, \\\"is_sparse\\\": false, \\\"subsampling\\\": false, \\\"has_extra_col\\\": true, \\\"dataset_classes\\\": 3675, \\\"dataset_features\\\": 13, \\\"dataset_samples\\\": 16512, \\\"single_frequency_class_detected\\\": false}\", \"ModelExplainRunId\": \"AutoML_dfc2bed6-b984-490e-ae53-7f0c1d8bf704_ModelExplain\"}, \"tags\": {\"model_explain_run\": \"best_run\", \"_aml_system_automl_run_workspace_id\": \"69a4d4b3-9040-440b-93e2-f1f7d30962f1\", \"_aml_system_azureml.automlComponent\": \"AutoML\", \"pipeline_id_000\": \"faf12f74cf9bbd358ca5525682c5030d36f7be7c;4bc4ec47eb8df2d5d68b361cd60120e65196f757;2dc95d8bafd84221b8de309021c722b4fa570e77;25f83b241b8941c8c1f896a8338015dbab159f71;1ee8bbdda30f414fb76bee47d543cd5e109dcdf8;86f7c6ce026522eff88f32e647e3e27450da2679;6ea29a0b9fd1f634678397a456aaf8d4d853f689;7839ca66a0ff9be386363c852f0384a7b2a1c93f;4379608887dc335ce8c4ec4afbec7da03177d166;ae729f09378486945c70eb2a2306f8aa8f4e30a7;13907c2227a8ccd337dcfb9775a6091b777331e0;7b7eb05148aedbc9f680e7533de408ae512d737a;65d7c43a91915b98bea837d39e652767814c8983;480f8271b09711d8daebb36454a153b84ef1254e;e647a57da02d25aba6061b72d5df7283520175ad;b5f35f573ce4f6e8526176d4e0932b5193598307;3840ebb82b060782c0c1aaabbe352751ed0cb999;1f8577810e0ef1b58bfcf0cc67c0115f13247d60;322472bb82968b4f37e85efa3a44571fd0e0a889;2bbf9c186568b3e4e331b4763140f07dbba55b11;221f78ec666d4b1d460391d52f75942aefd7a9ce;6fe6b24b2a7b09c60685c48cae3f1a94c85f3685;4cc886b6cc871877ba95e8363fa9d7a6ab1642d2;2722a007c5ac736ef2d254a25a994505e993b6cb;896f00b6bc0c96d74747e256f9eb1c1119660c46;b6a9e03ee640969540ec36c23d816f65ec0963a8;9f85195d2e27cf1becfe0fb8f9586381f62892ea;1f9f6ba360637df5300c0bd1097a408d004693e0;b4a101d4fdbf432c76b042be2ce850c634e150d4;1077437eb1241b4205a5552f6b6534f1da16ed3b;__AutoML_Ensemble__;__AutoML_Stack_Ensemble__\", \"score_000\": \"0.09934331296513613;0.0978096614838185;0.14782579211285535;0.14450827993896526;0.14489878351893903;0.14437881178357653;0.1270021063432135;0.14675018074247687;0.1443942186024324;0.14439418305368407;0.14445986667542873;0.1378802262769516;0.11896262391620988;0.14731215640860712;0.17135368018942754;0.1299704822092986;0.14872078606717132;0.14720399975481735;0.1416001065327969;0.13949355509488848;0.16694360709873107;0.16372264640483739;0.1523758720382668;0.16789751580760734;0.17016387083225276;0.12855606645445197;0.1508332194148907;0.1712857791339045;0.15614693407741376;0.16444856979628528;0.09619700249370727;0.09635756814571175\", \"predicted_cost_000\": \"0;0;0.5;0.5;0.5;0.5;0.5;0.5;0.5;0.5;0.5;0.5;0.5;0.5;0.5;0.5;0.5;0.5;0.5;0.5;0.6051739211524114;1.8685707788360122;0.08288993540749273;2.7929312688061505;0.5398717888263365;43.338232593354114;0.11876921939706894;2.3848666260178786;0.7400148470857418;0.25760514430081644;0;0\", \"fit_time_000\": \"0.3042;2.219573;0.344097;0.42073;0.306757;0.318694;0.504348;0.28253799999999996;0.282758;0.344125;0.29918500000000003;0.231078;1.873346;0.374156;0.111822;0.162442;0.066174;0.076293;0.076381;65.337781;0.30405699999999997;0.961223;0.088727;1.820752;0.228843;6.0043880000000005;0.171488;0.900884;0.70258;0.241276;10;12\", \"training_percent_000\": \"100;100;100;100;100;100;100;100;100;100;100;100;100;100;100;100;100;100;100;100;100;100;100;100;100;100;100;100;100;100;100;100\", \"iteration_000\": \"0;1;2;3;4;5;6;7;8;9;10;11;12;13;14;15;16;17;18;19;20;21;22;23;24;25;26;27;28;29;30;31\", \"run_preprocessor_000\": \"MaxAbsScaler;MaxAbsScaler;MaxAbsScaler;RobustScaler;MinMaxScaler;StandardScalerWrapper;MinMaxScaler;MaxAbsScaler;StandardScalerWrapper;MaxAbsScaler;StandardScalerWrapper;MinMaxScaler;MinMaxScaler;MinMaxScaler;MinMaxScaler;MaxAbsScaler;MinMaxScaler;RobustScaler;RobustScaler;StandardScalerWrapper;StandardScalerWrapper;MinMaxScaler;StandardScalerWrapper;StandardScalerWrapper;StandardScalerWrapper;SparseNormalizer;StandardScalerWrapper;RobustScaler;StandardScalerWrapper;MinMaxScaler;;\", \"run_algorithm_000\": \"LightGBM;XGBoostRegressor;ElasticNet;ElasticNet;ElasticNet;ElasticNet;RandomForest;ElasticNet;ElasticNet;ElasticNet;ElasticNet;ExtremeRandomTrees;RandomForest;ExtremeRandomTrees;ExtremeRandomTrees;ExtremeRandomTrees;DecisionTree;ExtremeRandomTrees;DecisionTree;GradientBoosting;ExtremeRandomTrees;ExtremeRandomTrees;ExtremeRandomTrees;ExtremeRandomTrees;ExtremeRandomTrees;XGBoostRegressor;RandomForest;ExtremeRandomTrees;ExtremeRandomTrees;ExtremeRandomTrees;VotingEnsemble;StackEnsemble\", \"dynamic_allowlisting_iterations\": \"<25>;\", \"_aml_system_azureml.automl_early_exit_message\": \"No scores improved over last 10 iterations, so experiment stopped early. This early stopping behavior can be disabled by setting enable_early_stopping = False in AutoMLConfig for notebook/python SDK runs.\", \"automl_best_child_run_id\": \"AutoML_dfc2bed6-b984-490e-ae53-7f0c1d8bf704_30\", \"model_explain_best_run_child_id\": \"AutoML_dfc2bed6-b984-490e-ae53-7f0c1d8bf704_30\"}, \"end_time_utc\": \"2024-01-03T12:04:45.877873Z\", \"status\": \"Completed\", \"log_files\": {}, \"log_groups\": [], \"run_duration\": \"0:18:45\", \"run_number\": \"1704282360\", \"run_queued_details\": {\"status\": \"Completed\", \"details\": null}}, \"child_runs\": [{\"run_id\": \"AutoML_dfc2bed6-b984-490e-ae53-7f0c1d8bf704_setup\", \"run_number\": 1704282373, \"metric\": null, \"status\": \"Completed\", \"run_type\": \"azureml.scriptrun\", \"training_percent\": null, \"start_time\": \"2024-01-03T11:46:22.168059Z\", \"end_time\": \"2024-01-03T11:48:00.690192Z\", \"created_time\": \"2024-01-03T11:46:13.432958Z\", \"created_time_dt\": \"2024-01-03T11:46:13.432958Z\", \"duration\": \"0:01:47\", \"iteration\": null, \"goal\": null, \"run_name\": \"Completed\", \"run_properties\": null}, {\"run_id\": \"AutoML_dfc2bed6-b984-490e-ae53-7f0c1d8bf704_featurize\", \"run_number\": 1704282481, \"metric\": null, \"status\": \"Completed\", \"run_type\": \"automl.featurization\", \"training_percent\": null, \"start_time\": \"2024-01-03T11:48:01.531189Z\", \"end_time\": \"2024-01-03T11:48:45.875183Z\", \"created_time\": \"2024-01-03T11:48:01.054394Z\", \"created_time_dt\": \"2024-01-03T11:48:01.054394Z\", \"duration\": \"0:00:44\", \"iteration\": null, \"goal\": null, \"run_name\": \"Completed\", \"run_properties\": null}, {\"run_id\": \"AutoML_dfc2bed6-b984-490e-ae53-7f0c1d8bf704_0\", \"run_number\": 1704282527, \"metric\": null, \"status\": \"Completed\", \"run_type\": null, \"training_percent\": \"100\", \"start_time\": \"2024-01-03T11:49:12.559801Z\", \"end_time\": \"2024-01-03T11:49:28.365177Z\", \"created_time\": \"2024-01-03T11:48:47.44226Z\", \"created_time_dt\": \"2024-01-03T11:48:47.44226Z\", \"duration\": \"0:00:40\", \"iteration\": \"0\", \"goal\": \"normalized_root_mean_squared_error_min\", \"run_name\": \"MaxAbsScaler, LightGBM\", \"run_properties\": \"copy=True\", \"primary_metric\": 0.09934331, \"best_metric\": 0.09934331}, {\"run_id\": \"AutoML_dfc2bed6-b984-490e-ae53-7f0c1d8bf704_2\", \"run_number\": 1704282528, \"metric\": null, \"status\": \"Completed\", \"run_type\": null, \"training_percent\": \"100\", \"start_time\": \"2024-01-03T11:49:45.049891Z\", \"end_time\": \"2024-01-03T11:49:58.280841Z\", \"created_time\": \"2024-01-03T11:48:48.235351Z\", \"created_time_dt\": \"2024-01-03T11:48:48.235351Z\", \"duration\": \"0:01:10\", \"iteration\": \"2\", \"goal\": \"normalized_root_mean_squared_error_min\", \"run_name\": \"MaxAbsScaler, ElasticNet\", \"run_properties\": \"copy=True\", \"primary_metric\": 0.14782579, \"best_metric\": 0.09934331}, {\"run_id\": \"AutoML_dfc2bed6-b984-490e-ae53-7f0c1d8bf704_4\", \"run_number\": 1704282529, \"metric\": null, \"status\": \"Completed\", \"run_type\": null, \"training_percent\": \"100\", \"start_time\": \"2024-01-03T11:50:13.698424Z\", \"end_time\": \"2024-01-03T11:50:26.773209Z\", \"created_time\": \"2024-01-03T11:48:49.160286Z\", \"created_time_dt\": \"2024-01-03T11:48:49.160286Z\", \"duration\": \"0:01:37\", \"iteration\": \"4\", \"goal\": \"normalized_root_mean_squared_error_min\", \"run_name\": \"MinMaxScaler, ElasticNet\", \"run_properties\": \"copy=True, feature_range=(0, 1\", \"primary_metric\": 0.14489878, \"best_metric\": 0.09934331}, {\"run_id\": \"AutoML_dfc2bed6-b984-490e-ae53-7f0c1d8bf704_6\", \"run_number\": 1704282530, \"metric\": null, \"status\": \"Completed\", \"run_type\": null, \"training_percent\": \"100\", \"start_time\": \"2024-01-03T11:50:41.60613Z\", \"end_time\": \"2024-01-03T11:50:54.941995Z\", \"created_time\": \"2024-01-03T11:48:50.051681Z\", \"created_time_dt\": \"2024-01-03T11:48:50.051681Z\", \"duration\": \"0:02:04\", \"iteration\": \"6\", \"goal\": \"normalized_root_mean_squared_error_min\", \"run_name\": \"MinMaxScaler, RandomForest\", \"run_properties\": \"copy=True, feature_range=(0, 1\", \"primary_metric\": 0.12700211, \"best_metric\": 0.09934331}, {\"run_id\": \"AutoML_dfc2bed6-b984-490e-ae53-7f0c1d8bf704_9\", \"run_number\": 1704282531, \"metric\": null, \"status\": \"Completed\", \"run_type\": null, \"training_percent\": \"100\", \"start_time\": \"2024-01-03T11:51:23.791162Z\", \"end_time\": \"2024-01-03T11:51:36.905324Z\", \"created_time\": \"2024-01-03T11:48:51.393386Z\", \"created_time_dt\": \"2024-01-03T11:48:51.393386Z\", \"duration\": \"0:02:45\", \"iteration\": \"9\", \"goal\": \"normalized_root_mean_squared_error_min\", \"run_name\": \"MaxAbsScaler, ElasticNet\", \"run_properties\": \"copy=True\", \"primary_metric\": 0.14439418, \"best_metric\": 0.09934331}, {\"run_id\": \"AutoML_dfc2bed6-b984-490e-ae53-7f0c1d8bf704_11\", \"run_number\": 1704282532, \"metric\": null, \"status\": \"Completed\", \"run_type\": null, \"training_percent\": \"100\", \"start_time\": \"2024-01-03T11:51:51.587712Z\", \"end_time\": \"2024-01-03T11:52:04.421148Z\", \"created_time\": \"2024-01-03T11:48:52.404276Z\", \"created_time_dt\": \"2024-01-03T11:48:52.404276Z\", \"duration\": \"0:03:12\", \"iteration\": \"11\", \"goal\": \"normalized_root_mean_squared_error_min\", \"run_name\": \"MinMaxScaler, ExtremeRandomTrees\", \"run_properties\": \"copy=True, feature_range=(0, 1\", \"primary_metric\": 0.13788023, \"best_metric\": 0.09934331}, {\"run_id\": \"AutoML_dfc2bed6-b984-490e-ae53-7f0c1d8bf704_13\", \"run_number\": 1704282533, \"metric\": null, \"status\": \"Completed\", \"run_type\": null, \"training_percent\": \"100\", \"start_time\": \"2024-01-03T11:52:22.5825Z\", \"end_time\": \"2024-01-03T11:52:35.873525Z\", \"created_time\": \"2024-01-03T11:48:53.259386Z\", \"created_time_dt\": \"2024-01-03T11:48:53.259386Z\", \"duration\": \"0:03:42\", \"iteration\": \"13\", \"goal\": \"normalized_root_mean_squared_error_min\", \"run_name\": \"MinMaxScaler, ExtremeRandomTrees\", \"run_properties\": \"copy=True, feature_range=(0, 1\", \"primary_metric\": 0.14731216, \"best_metric\": 0.09934331}, {\"run_id\": \"AutoML_dfc2bed6-b984-490e-ae53-7f0c1d8bf704_15\", \"run_number\": 1704282534, \"metric\": null, \"status\": \"Completed\", \"run_type\": null, \"training_percent\": \"100\", \"start_time\": \"2024-01-03T11:52:50.427913Z\", \"end_time\": \"2024-01-03T11:53:03.245635Z\", \"created_time\": \"2024-01-03T11:48:54.193915Z\", \"created_time_dt\": \"2024-01-03T11:48:54.193915Z\", \"duration\": \"0:04:09\", \"iteration\": \"15\", \"goal\": \"normalized_root_mean_squared_error_min\", \"run_name\": \"MaxAbsScaler, ExtremeRandomTrees\", \"run_properties\": \"copy=True\", \"primary_metric\": 0.12997048, \"best_metric\": 0.09934331}, {\"run_id\": \"AutoML_dfc2bed6-b984-490e-ae53-7f0c1d8bf704_17\", \"run_number\": 1704282535, \"metric\": null, \"status\": \"Completed\", \"run_type\": null, \"training_percent\": \"100\", \"start_time\": \"2024-01-03T11:53:17.901711Z\", \"end_time\": \"2024-01-03T11:53:30.820013Z\", \"created_time\": \"2024-01-03T11:48:55.015028Z\", \"created_time_dt\": \"2024-01-03T11:48:55.015028Z\", \"duration\": \"0:04:35\", \"iteration\": \"17\", \"goal\": \"normalized_root_mean_squared_error_min\", \"run_name\": \"RobustScaler, ExtremeRandomTrees\", \"run_properties\": \"copy=True, quantile_range=[10, 90], with_centering=False,\\n             with_scaling=False\", \"primary_metric\": 0.147204, \"best_metric\": 0.09934331}, {\"run_id\": \"AutoML_dfc2bed6-b984-490e-ae53-7f0c1d8bf704_worker_0\", \"run_number\": 1704282536, \"metric\": null, \"status\": \"Completed\", \"run_type\": \"azureml.scriptrun\", \"training_percent\": null, \"start_time\": \"2024-01-03T11:49:02.849947Z\", \"end_time\": \"2024-01-03T11:55:12.942962Z\", \"created_time\": \"2024-01-03T11:48:56.164698Z\", \"created_time_dt\": \"2024-01-03T11:48:56.164698Z\", \"duration\": \"0:06:16\", \"iteration\": null, \"goal\": null, \"run_name\": \"Completed\", \"run_properties\": null}, {\"run_id\": \"AutoML_dfc2bed6-b984-490e-ae53-7f0c1d8bf704_20\", \"run_number\": 1704282964, \"metric\": null, \"status\": \"Completed\", \"run_type\": \"azureml.scriptrun\", \"training_percent\": \"100\", \"start_time\": \"2024-01-03T11:56:11.816521Z\", \"end_time\": \"2024-01-03T11:56:43.811753Z\", \"created_time\": \"2024-01-03T11:56:04.507702Z\", \"created_time_dt\": \"2024-01-03T11:56:04.507702Z\", \"duration\": \"0:00:39\", \"iteration\": \"20\", \"goal\": \"normalized_root_mean_squared_error_min\", \"run_name\": \"StandardScalerWrapper, ExtremeRandomTrees\", \"run_properties\": \"copy=True, with_mean=True, with_std=True\", \"primary_metric\": 0.16694361, \"best_metric\": 0.09934331}, {\"run_id\": \"AutoML_dfc2bed6-b984-490e-ae53-7f0c1d8bf704_21\", \"run_number\": 1704283006, \"metric\": null, \"status\": \"Completed\", \"run_type\": \"azureml.scriptrun\", \"training_percent\": \"100\", \"start_time\": \"2024-01-03T11:56:53.300295Z\", \"end_time\": \"2024-01-03T11:57:27.491922Z\", \"created_time\": \"2024-01-03T11:56:46.255124Z\", \"created_time_dt\": \"2024-01-03T11:56:46.255124Z\", \"duration\": \"0:00:41\", \"iteration\": \"21\", \"goal\": \"normalized_root_mean_squared_error_min\", \"run_name\": \"MinMaxScaler, ExtremeRandomTrees\", \"run_properties\": \"copy=True, feature_range=(0, 1\", \"primary_metric\": 0.16372265, \"best_metric\": 0.09934331}, {\"run_id\": \"AutoML_dfc2bed6-b984-490e-ae53-7f0c1d8bf704_22\", \"run_number\": 1704283049, \"metric\": null, \"status\": \"Completed\", \"run_type\": \"azureml.scriptrun\", \"training_percent\": \"100\", \"start_time\": \"2024-01-03T11:57:35.723256Z\", \"end_time\": \"2024-01-03T11:58:07.549302Z\", \"created_time\": \"2024-01-03T11:57:29.037082Z\", \"created_time_dt\": \"2024-01-03T11:57:29.037082Z\", \"duration\": \"0:00:38\", \"iteration\": \"22\", \"goal\": \"normalized_root_mean_squared_error_min\", \"run_name\": \"StandardScalerWrapper, ExtremeRandomTrees\", \"run_properties\": \"copy=True, with_mean=True, with_std=False\", \"primary_metric\": 0.15237587, \"best_metric\": 0.09934331}, {\"run_id\": \"AutoML_dfc2bed6-b984-490e-ae53-7f0c1d8bf704_23\", \"run_number\": 1704283089, \"metric\": null, \"status\": \"Completed\", \"run_type\": \"azureml.scriptrun\", \"training_percent\": \"100\", \"start_time\": \"2024-01-03T11:58:16.368089Z\", \"end_time\": \"2024-01-03T11:58:50.326571Z\", \"created_time\": \"2024-01-03T11:58:09.034949Z\", \"created_time_dt\": \"2024-01-03T11:58:09.034949Z\", \"duration\": \"0:00:41\", \"iteration\": \"23\", \"goal\": \"normalized_root_mean_squared_error_min\", \"run_name\": \"StandardScalerWrapper, ExtremeRandomTrees\", \"run_properties\": \"copy=True, with_mean=True, with_std=True\", \"primary_metric\": 0.16789752, \"best_metric\": 0.09934331}, {\"run_id\": \"AutoML_dfc2bed6-b984-490e-ae53-7f0c1d8bf704_24\", \"run_number\": 1704283131, \"metric\": null, \"status\": \"Completed\", \"run_type\": \"azureml.scriptrun\", \"training_percent\": \"100\", \"start_time\": \"2024-01-03T11:58:59.10901Z\", \"end_time\": \"2024-01-03T11:59:30.589307Z\", \"created_time\": \"2024-01-03T11:58:51.687599Z\", \"created_time_dt\": \"2024-01-03T11:58:51.687599Z\", \"duration\": \"0:00:38\", \"iteration\": \"24\", \"goal\": \"normalized_root_mean_squared_error_min\", \"run_name\": \"StandardScalerWrapper, ExtremeRandomTrees\", \"run_properties\": \"copy=True, with_mean=True, with_std=True\", \"primary_metric\": 0.17016387, \"best_metric\": 0.09934331}, {\"run_id\": \"AutoML_dfc2bed6-b984-490e-ae53-7f0c1d8bf704_25\", \"run_number\": 1704283172, \"metric\": null, \"status\": \"Completed\", \"run_type\": \"azureml.scriptrun\", \"training_percent\": \"100\", \"start_time\": \"2024-01-03T11:59:40.094565Z\", \"end_time\": \"2024-01-03T12:00:16.964098Z\", \"created_time\": \"2024-01-03T11:59:32.778562Z\", \"created_time_dt\": \"2024-01-03T11:59:32.778562Z\", \"duration\": \"0:00:44\", \"iteration\": \"25\", \"goal\": \"normalized_root_mean_squared_error_min\", \"run_name\": \"SparseNormalizer, XGBoostRegressor\", \"run_properties\": \"copy=True, norm='max'\", \"primary_metric\": 0.12855607, \"best_metric\": 0.09934331}, {\"run_id\": \"AutoML_dfc2bed6-b984-490e-ae53-7f0c1d8bf704_26\", \"run_number\": 1704283218, \"metric\": null, \"status\": \"Completed\", \"run_type\": \"azureml.scriptrun\", \"training_percent\": \"100\", \"start_time\": \"2024-01-03T12:00:25.951433Z\", \"end_time\": \"2024-01-03T12:00:57.58294Z\", \"created_time\": \"2024-01-03T12:00:18.720596Z\", \"created_time_dt\": \"2024-01-03T12:00:18.720596Z\", \"duration\": \"0:00:38\", \"iteration\": \"26\", \"goal\": \"normalized_root_mean_squared_error_min\", \"run_name\": \"StandardScalerWrapper, RandomForest\", \"run_properties\": \"copy=True, with_mean=True, with_std=False\", \"primary_metric\": 0.15083322, \"best_metric\": 0.09934331}, {\"run_id\": \"AutoML_dfc2bed6-b984-490e-ae53-7f0c1d8bf704_27\", \"run_number\": 1704283259, \"metric\": null, \"status\": \"Completed\", \"run_type\": \"azureml.scriptrun\", \"training_percent\": \"100\", \"start_time\": \"2024-01-03T12:01:06.248648Z\", \"end_time\": \"2024-01-03T12:01:39.304371Z\", \"created_time\": \"2024-01-03T12:00:59.098981Z\", \"created_time_dt\": \"2024-01-03T12:00:59.098981Z\", \"duration\": \"0:00:40\", \"iteration\": \"27\", \"goal\": \"normalized_root_mean_squared_error_min\", \"run_name\": \"RobustScaler, ExtremeRandomTrees\", \"run_properties\": \"copy=True, quantile_range=[10, 90], with_centering=False,\\n             with_scaling=True\", \"primary_metric\": 0.17128578, \"best_metric\": 0.09934331}, {\"run_id\": \"AutoML_dfc2bed6-b984-490e-ae53-7f0c1d8bf704_28\", \"run_number\": 1704283300, \"metric\": null, \"status\": \"Completed\", \"run_type\": \"azureml.scriptrun\", \"training_percent\": \"100\", \"start_time\": \"2024-01-03T12:01:48.106364Z\", \"end_time\": \"2024-01-03T12:02:20.040134Z\", \"created_time\": \"2024-01-03T12:01:40.792413Z\", \"created_time_dt\": \"2024-01-03T12:01:40.792413Z\", \"duration\": \"0:00:39\", \"iteration\": \"28\", \"goal\": \"normalized_root_mean_squared_error_min\", \"run_name\": \"StandardScalerWrapper, ExtremeRandomTrees\", \"run_properties\": \"copy=True, with_mean=True, with_std=False\", \"primary_metric\": 0.15614693, \"best_metric\": 0.09934331}, {\"run_id\": \"AutoML_dfc2bed6-b984-490e-ae53-7f0c1d8bf704_29\", \"run_number\": 1704283341, \"metric\": null, \"status\": \"Completed\", \"run_type\": \"azureml.scriptrun\", \"training_percent\": \"100\", \"start_time\": \"2024-01-03T12:02:28.66338Z\", \"end_time\": \"2024-01-03T12:03:00.647473Z\", \"created_time\": \"2024-01-03T12:02:21.481129Z\", \"created_time_dt\": \"2024-01-03T12:02:21.481129Z\", \"duration\": \"0:00:39\", \"iteration\": \"29\", \"goal\": \"normalized_root_mean_squared_error_min\", \"run_name\": \"MinMaxScaler, ExtremeRandomTrees\", \"run_properties\": \"copy=True, feature_range=(0, 1\", \"primary_metric\": 0.16444857, \"best_metric\": 0.09934331}, {\"run_id\": \"AutoML_dfc2bed6-b984-490e-ae53-7f0c1d8bf704_30\", \"run_number\": 1704283381, \"metric\": null, \"status\": \"Completed\", \"run_type\": \"azureml.scriptrun\", \"training_percent\": \"100\", \"start_time\": \"2024-01-03T12:03:08.389309Z\", \"end_time\": \"2024-01-03T12:03:51.757125Z\", \"created_time\": \"2024-01-03T12:03:01.342982Z\", \"created_time_dt\": \"2024-01-03T12:03:01.342982Z\", \"duration\": \"0:00:50\", \"iteration\": \"30\", \"goal\": \"normalized_root_mean_squared_error_min\", \"run_name\": \"VotingEnsemble\", \"run_properties\": \"estimators=[('1', Pipeline(memory=None, steps=[('maxabsscaler', MaxAbsScaler(copy=True\", \"primary_metric\": 0.096197, \"best_metric\": 0.096197}, {\"run_id\": \"AutoML_dfc2bed6-b984-490e-ae53-7f0c1d8bf704_31\", \"run_number\": 1704283432, \"metric\": null, \"status\": \"Completed\", \"run_type\": \"azureml.scriptrun\", \"training_percent\": \"100\", \"start_time\": \"2024-01-03T12:03:59.341946Z\", \"end_time\": \"2024-01-03T12:04:44.781482Z\", \"created_time\": \"2024-01-03T12:03:52.375366Z\", \"created_time_dt\": \"2024-01-03T12:03:52.375366Z\", \"duration\": \"0:00:52\", \"iteration\": \"31\", \"goal\": \"normalized_root_mean_squared_error_min\", \"run_name\": \"StackEnsemble\", \"run_properties\": \"base_learners=[('1', Pipeline(memory=None, steps=[('maxabsscaler', MaxAbsScaler(copy=True\", \"primary_metric\": 0.09635757, \"best_metric\": 0.096197}], \"children_metrics\": {\"categories\": [0], \"series\": {\"normalized_median_absolute_error\": [{\"categories\": [\"0\", \"2\", \"4\", \"6\", \"9\", \"11\", \"13\", \"15\", \"17\", \"20\", \"21\", \"22\", \"23\", \"24\", \"25\", \"26\", \"27\", \"28\", \"29\", \"30\", \"31\"], \"mode\": \"markers\", \"name\": \"normalized_median_absolute_error\", \"stepped\": false, \"type\": \"scatter\", \"data\": [0.04403834948056282, 0.08012692473433099, 0.07954366360860368, 0.06569638966105326, 0.0790651378757201, 0.07373809545280953, 0.08093742897318984, 0.06409643096481947, 0.07792386100463117, 0.0942067400333781, 0.09300330320629932, 0.0846585295966033, 0.09612492064649335, 0.09961929266652307, 0.06334242564979113, 0.08330825911593444, 0.098053416709559, 0.08535938490634204, 0.09311948161944972, 0.041719495196267414, 0.04235695906814703]}, {\"categories\": [\"0\", \"2\", \"4\", \"6\", \"9\", \"11\", \"13\", \"15\", \"17\", \"20\", \"21\", \"22\", \"23\", \"24\", \"25\", \"26\", \"27\", \"28\", \"29\", \"30\", \"31\"], \"mode\": \"lines\", \"name\": \"normalized_median_absolute_error_min\", \"stepped\": true, \"type\": \"scatter\", \"data\": [0.04403834948056282, 0.04403834948056282, 0.04403834948056282, 0.04403834948056282, 0.04403834948056282, 0.04403834948056282, 0.04403834948056282, 0.04403834948056282, 0.04403834948056282, 0.04403834948056282, 0.04403834948056282, 0.04403834948056282, 0.04403834948056282, 0.04403834948056282, 0.04403834948056282, 0.04403834948056282, 0.04403834948056282, 0.04403834948056282, 0.04403834948056282, 0.041719495196267414, 0.041719495196267414]}], \"explained_variance\": [{\"categories\": [\"0\", \"2\", \"4\", \"6\", \"9\", \"11\", \"13\", \"15\", \"17\", \"20\", \"21\", \"22\", \"23\", \"24\", \"25\", \"26\", \"27\", \"28\", \"29\", \"30\", \"31\"], \"mode\": \"markers\", \"name\": \"explained_variance\", \"stepped\": false, \"type\": \"scatter\", \"data\": [0.8228975815106551, 0.6077415070024121, 0.6231308717199311, 0.7104657015290751, 0.6257551214057366, 0.6587447449257786, 0.6104797032078847, 0.6967817639084698, 0.6110384986267793, 0.4997245337859437, 0.5188484909555658, 0.583216708668238, 0.49400125434682696, 0.4802835373334552, 0.7035184119977202, 0.5916135657550142, 0.4733697951080139, 0.5623311041760483, 0.5145681757488628, 0.8339048748637179, 0.8333677801026586]}, {\"categories\": [\"0\", \"2\", \"4\", \"6\", \"9\", \"11\", \"13\", \"15\", \"17\", \"20\", \"21\", \"22\", \"23\", \"24\", \"25\", \"26\", \"27\", \"28\", \"29\", \"30\", \"31\"], \"mode\": \"lines\", \"name\": \"explained_variance_max\", \"stepped\": true, \"type\": \"scatter\", \"data\": [0.8228975815106551, 0.8228975815106551, 0.8228975815106551, 0.8228975815106551, 0.8228975815106551, 0.8228975815106551, 0.8228975815106551, 0.8228975815106551, 0.8228975815106551, 0.8228975815106551, 0.8228975815106551, 0.8228975815106551, 0.8228975815106551, 0.8228975815106551, 0.8228975815106551, 0.8228975815106551, 0.8228975815106551, 0.8228975815106551, 0.8228975815106551, 0.8339048748637179, 0.8339048748637179]}], \"spearman_correlation\": [{\"categories\": [\"0\", \"2\", \"4\", \"6\", \"9\", \"11\", \"13\", \"15\", \"17\", \"20\", \"21\", \"22\", \"23\", \"24\", \"25\", \"26\", \"27\", \"28\", \"29\", \"30\", \"31\"], \"mode\": \"markers\", \"name\": \"spearman_correlation\", \"stepped\": false, \"type\": \"scatter\", \"data\": [0.913931298691359, 0.8078320479169299, 0.8207702085410301, 0.8763220411234248, 0.8232946638912332, 0.8435862932523627, 0.8305492478007278, 0.8628341214219793, 0.8196444400100175, 0.7852072468808567, 0.8011305708702062, 0.8000623690085934, 0.7985225086872169, 0.7978690714957936, 0.8436869535102844, 0.8174880477654943, 0.7929522216587184, 0.803337747009026, 0.7976505147330508, 0.9200313495801759, 0.9200024925056741]}, {\"categories\": [\"0\", \"2\", \"4\", \"6\", \"9\", \"11\", \"13\", \"15\", \"17\", \"20\", \"21\", \"22\", \"23\", \"24\", \"25\", \"26\", \"27\", \"28\", \"29\", \"30\", \"31\"], \"mode\": \"lines\", \"name\": \"spearman_correlation_max\", \"stepped\": true, \"type\": \"scatter\", \"data\": [0.913931298691359, 0.913931298691359, 0.913931298691359, 0.913931298691359, 0.913931298691359, 0.913931298691359, 0.913931298691359, 0.913931298691359, 0.913931298691359, 0.913931298691359, 0.913931298691359, 0.913931298691359, 0.913931298691359, 0.913931298691359, 0.913931298691359, 0.913931298691359, 0.913931298691359, 0.913931298691359, 0.913931298691359, 0.9200313495801759, 0.9200313495801759]}], \"mean_absolute_error\": [{\"categories\": [\"0\", \"2\", \"4\", \"6\", \"9\", \"11\", \"13\", \"15\", \"17\", \"20\", \"21\", \"22\", \"23\", \"24\", \"25\", \"26\", \"27\", \"28\", \"29\", \"30\", \"31\"], \"mode\": \"markers\", \"name\": \"mean_absolute_error\", \"stepped\": false, \"type\": \"scatter\", \"data\": [32376.439655201393, 51812.961709665695, 50802.30631699673, 43625.32332422205, 50702.15600775194, 47708.13340038803, 52347.70943380503, 43801.57505108593, 51640.9288929197, 60274.10017344683, 59087.03752601489, 54024.0612210286, 60850.77035765696, 62047.33128249813, 43974.91735366703, 53619.9925792165, 62064.32931086795, 55664.11552930791, 59396.187600488316, 30990.52539713356, 31143.86138978676]}, {\"categories\": [\"0\", \"2\", \"4\", \"6\", \"9\", \"11\", \"13\", \"15\", \"17\", \"20\", \"21\", \"22\", \"23\", \"24\", \"25\", \"26\", \"27\", \"28\", \"29\", \"30\", \"31\"], \"mode\": \"lines\", \"name\": \"mean_absolute_error_min\", \"stepped\": true, \"type\": \"scatter\", \"data\": [32376.439655201393, 32376.439655201393, 32376.439655201393, 32376.439655201393, 32376.439655201393, 32376.439655201393, 32376.439655201393, 32376.439655201393, 32376.439655201393, 32376.439655201393, 32376.439655201393, 32376.439655201393, 32376.439655201393, 32376.439655201393, 32376.439655201393, 32376.439655201393, 32376.439655201393, 32376.439655201393, 32376.439655201393, 30990.52539713356, 30990.52539713356]}], \"normalized_root_mean_squared_log_error\": [{\"categories\": [\"0\", \"2\", \"4\", \"6\", \"9\", \"11\", \"13\", \"15\", \"17\", \"20\", \"21\", \"22\", \"23\", \"24\", \"25\", \"26\", \"27\", \"28\", \"29\", \"30\", \"31\"], \"mode\": \"markers\", \"name\": \"normalized_root_mean_squared_log_error\", \"stepped\": false, \"type\": \"scatter\", \"data\": [0.06810116777870201, 0.10321563160183007, NaN, 0.08510370191646498, NaN, 0.09137876033516265, 0.09856607391028796, 0.08452926263420887, 0.09653633154235629, 0.11150129698689526, 0.10941555936738885, 0.10174802452537504, 0.11273737299289951, 0.1146861331529443, 0.08675476508857828, 0.10109228852376276, 0.11423376671100922, 0.10382728530056394, 0.11097629758388397, 0.06575588571652256, 0.06613384098988324]}, {\"categories\": [\"0\", \"2\", \"4\", \"6\", \"9\", \"11\", \"13\", \"15\", \"17\", \"20\", \"21\", \"22\", \"23\", \"24\", \"25\", \"26\", \"27\", \"28\", \"29\", \"30\", \"31\"], \"mode\": \"lines\", \"name\": \"normalized_root_mean_squared_log_error_min\", \"stepped\": true, \"type\": \"scatter\", \"data\": [0.06810116777870201, 0.06810116777870201, 0.06810116777870201, 0.06810116777870201, 0.06810116777870201, 0.06810116777870201, 0.06810116777870201, 0.06810116777870201, 0.06810116777870201, 0.06810116777870201, 0.06810116777870201, 0.06810116777870201, 0.06810116777870201, 0.06810116777870201, 0.06810116777870201, 0.06810116777870201, 0.06810116777870201, 0.06810116777870201, 0.06810116777870201, 0.06575588571652256, 0.06575588571652256]}], \"mean_absolute_percentage_error\": [{\"categories\": [\"0\", \"2\", \"4\", \"6\", \"9\", \"11\", \"13\", \"15\", \"17\", \"20\", \"21\", \"22\", \"23\", \"24\", \"25\", \"26\", \"27\", \"28\", \"29\", \"30\", \"31\"], \"mode\": \"markers\", \"name\": \"mean_absolute_percentage_error\", \"stepped\": false, \"type\": \"scatter\", \"data\": [18.380450388795758, 29.321146153237336, 29.113868706112914, 25.27773584927968, 29.28547709817647, 27.44707804671832, 30.694512959064035, 24.553009397267445, 29.31102221010652, 35.79049572664421, 35.076247450779086, 31.402046949283502, 36.41278128169459, 37.272635323101895, 24.852040881039066, 31.475668023311275, 37.004624047083134, 32.547357299704984, 35.71364929480016, 17.46132751931706, 17.736719864613676]}, {\"categories\": [\"0\", \"2\", \"4\", \"6\", \"9\", \"11\", \"13\", \"15\", \"17\", \"20\", \"21\", \"22\", \"23\", \"24\", \"25\", \"26\", \"27\", \"28\", \"29\", \"30\", \"31\"], \"mode\": \"lines\", \"name\": \"mean_absolute_percentage_error_min\", \"stepped\": true, \"type\": \"scatter\", \"data\": [18.380450388795758, 18.380450388795758, 18.380450388795758, 18.380450388795758, 18.380450388795758, 18.380450388795758, 18.380450388795758, 18.380450388795758, 18.380450388795758, 18.380450388795758, 18.380450388795758, 18.380450388795758, 18.380450388795758, 18.380450388795758, 18.380450388795758, 18.380450388795758, 18.380450388795758, 18.380450388795758, 18.380450388795758, 17.46132751931706, 17.46132751931706]}], \"root_mean_squared_error\": [{\"categories\": [\"0\", \"2\", \"4\", \"6\", \"9\", \"11\", \"13\", \"15\", \"17\", \"20\", \"21\", \"22\", \"23\", \"24\", \"25\", \"26\", \"27\", \"28\", \"29\", \"30\", \"31\"], \"mode\": \"markers\", \"name\": \"root_mean_squared_error\", \"stepped\": false, \"type\": \"scatter\", \"data\": [48181.70547471695, 71695.80482631907, 70276.19980425246, 61596.27558067123, 70031.46756940288, 66872.18550477408, 71446.69048248728, 63035.94381247424, 71394.23428908593, 80967.98333009877, 79405.81095163894, 73902.60269030348, 81430.63096172118, 82529.81768138426, 62349.94934254211, 73154.41308266082, 83073.94545150195, 75731.57532141382, 79757.88524833795, 46655.738603453014, 46733.61326580649]}, {\"categories\": [\"0\", \"2\", \"4\", \"6\", \"9\", \"11\", \"13\", \"15\", \"17\", \"20\", \"21\", \"22\", \"23\", \"24\", \"25\", \"26\", \"27\", \"28\", \"29\", \"30\", \"31\"], \"mode\": \"lines\", \"name\": \"root_mean_squared_error_min\", \"stepped\": true, \"type\": \"scatter\", \"data\": [48181.70547471695, 48181.70547471695, 48181.70547471695, 48181.70547471695, 48181.70547471695, 48181.70547471695, 48181.70547471695, 48181.70547471695, 48181.70547471695, 48181.70547471695, 48181.70547471695, 48181.70547471695, 48181.70547471695, 48181.70547471695, 48181.70547471695, 48181.70547471695, 48181.70547471695, 48181.70547471695, 48181.70547471695, 46655.738603453014, 46655.738603453014]}], \"median_absolute_error\": [{\"categories\": [\"0\", \"2\", \"4\", \"6\", \"9\", \"11\", \"13\", \"15\", \"17\", \"20\", \"21\", \"22\", \"23\", \"24\", \"25\", \"26\", \"27\", \"28\", \"29\", \"30\", \"31\"], \"mode\": \"markers\", \"name\": \"median_absolute_error\", \"stepped\": false, \"type\": \"scatter\", \"data\": [21358.68757477193, 38861.71875, 38578.8359375, 31862.880378390153, 38346.75, 35763.123770803526, 39254.81492685502, 31086.897210799376, 37793.22843496813, 45690.45732966845, 45106.78806166158, 41059.556171411794, 46620.77876339057, 48315.556181849024, 30721.203125, 40404.672287746434, 47556.10321096954, 41399.4723983457, 45163.13482439635, 20234.03860918009, 20543.209861969444]}, {\"categories\": [\"0\", \"2\", \"4\", \"6\", \"9\", \"11\", \"13\", \"15\", \"17\", \"20\", \"21\", \"22\", \"23\", \"24\", \"25\", \"26\", \"27\", \"28\", \"29\", \"30\", \"31\"], \"mode\": \"lines\", \"name\": \"median_absolute_error_min\", \"stepped\": true, \"type\": \"scatter\", \"data\": [21358.68757477193, 21358.68757477193, 21358.68757477193, 21358.68757477193, 21358.68757477193, 21358.68757477193, 21358.68757477193, 21358.68757477193, 21358.68757477193, 21358.68757477193, 21358.68757477193, 21358.68757477193, 21358.68757477193, 21358.68757477193, 21358.68757477193, 21358.68757477193, 21358.68757477193, 21358.68757477193, 21358.68757477193, 20234.03860918009, 20234.03860918009]}], \"root_mean_squared_log_error\": [{\"categories\": [\"0\", \"2\", \"4\", \"6\", \"9\", \"11\", \"13\", \"15\", \"17\", \"20\", \"21\", \"22\", \"23\", \"24\", \"25\", \"26\", \"27\", \"28\", \"29\", \"30\", \"31\"], \"mode\": \"markers\", \"name\": \"root_mean_squared_log_error\", \"stepped\": false, \"type\": \"scatter\", \"data\": [0.23880096009524684, 0.3619320009819677, NaN, 0.29842139846047266, NaN, 0.32042527921488473, 0.3456280391414523, 0.2964070915609942, 0.33851062189270326, 0.3909861995151141, 0.38367243145076274, 0.35678574592744505, 0.3953205765399502, 0.40215402466416283, 0.30421095366986023, 0.3544863670494957, 0.4005677737352507, 0.3640768025362978, 0.3891452566124032, 0.23057708337755914, 0.23190240693801384]}, {\"categories\": [\"0\", \"2\", \"4\", \"6\", \"9\", \"11\", \"13\", \"15\", \"17\", \"20\", \"21\", \"22\", \"23\", \"24\", \"25\", \"26\", \"27\", \"28\", \"29\", \"30\", \"31\"], \"mode\": \"lines\", \"name\": \"root_mean_squared_log_error_min\", \"stepped\": true, \"type\": \"scatter\", \"data\": [0.23880096009524684, 0.23880096009524684, 0.23880096009524684, 0.23880096009524684, 0.23880096009524684, 0.23880096009524684, 0.23880096009524684, 0.23880096009524684, 0.23880096009524684, 0.23880096009524684, 0.23880096009524684, 0.23880096009524684, 0.23880096009524684, 0.23880096009524684, 0.23880096009524684, 0.23880096009524684, 0.23880096009524684, 0.23880096009524684, 0.23880096009524684, 0.23057708337755914, 0.23057708337755914]}], \"normalized_mean_absolute_error\": [{\"categories\": [\"0\", \"2\", \"4\", \"6\", \"9\", \"11\", \"13\", \"15\", \"17\", \"20\", \"21\", \"22\", \"23\", \"24\", \"25\", \"26\", \"27\", \"28\", \"29\", \"30\", \"31\"], \"mode\": \"markers\", \"name\": \"normalized_mean_absolute_error\", \"stepped\": false, \"type\": \"scatter\", \"data\": [0.06675527040136205, 0.10683040834814227, 0.10474659138930711, 0.08994874933345028, 0.10454009675785242, 0.09836687972500739, 0.10793297642856119, 0.09031215345727632, 0.1064757029721933, 0.12427598272470387, 0.12182844096728444, 0.11138935761301726, 0.1254649885106803, 0.1279321142644734, 0.09066955879288545, 0.11055622982836463, 0.1279671616011232, 0.11477089894331963, 0.12246586117271334, 0.06389772701377223, 0.06421388239592159]}, {\"categories\": [\"0\", \"2\", \"4\", \"6\", \"9\", \"11\", \"13\", \"15\", \"17\", \"20\", \"21\", \"22\", \"23\", \"24\", \"25\", \"26\", \"27\", \"28\", \"29\", \"30\", \"31\"], \"mode\": \"lines\", \"name\": \"normalized_mean_absolute_error_min\", \"stepped\": true, \"type\": \"scatter\", \"data\": [0.06675527040136205, 0.06675527040136205, 0.06675527040136205, 0.06675527040136205, 0.06675527040136205, 0.06675527040136205, 0.06675527040136205, 0.06675527040136205, 0.06675527040136205, 0.06675527040136205, 0.06675527040136205, 0.06675527040136205, 0.06675527040136205, 0.06675527040136205, 0.06675527040136205, 0.06675527040136205, 0.06675527040136205, 0.06675527040136205, 0.06675527040136205, 0.06389772701377223, 0.06389772701377223]}], \"normalized_root_mean_squared_error\": [{\"categories\": [\"0\", \"2\", \"4\", \"6\", \"9\", \"11\", \"13\", \"15\", \"17\", \"20\", \"21\", \"22\", \"23\", \"24\", \"25\", \"26\", \"27\", \"28\", \"29\", \"30\", \"31\"], \"mode\": \"markers\", \"name\": \"normalized_root_mean_squared_error\", \"stepped\": false, \"type\": \"scatter\", \"data\": [0.09934331296513613, 0.14782579211285535, 0.14489878351893903, 0.1270021063432135, 0.14439418305368407, 0.1378802262769516, 0.14731215640860712, 0.1299704822092986, 0.14720399975481735, 0.16694360709873107, 0.16372264640483739, 0.1523758720382668, 0.16789751580760734, 0.17016387083225276, 0.12855606645445197, 0.1508332194148907, 0.1712857791339045, 0.15614693407741376, 0.16444856979628528, 0.09619700249370727, 0.09635756814571175]}, {\"categories\": [\"0\", \"2\", \"4\", \"6\", \"9\", \"11\", \"13\", \"15\", \"17\", \"20\", \"21\", \"22\", \"23\", \"24\", \"25\", \"26\", \"27\", \"28\", \"29\", \"30\", \"31\"], \"mode\": \"lines\", \"name\": \"normalized_root_mean_squared_error_min\", \"stepped\": true, \"type\": \"scatter\", \"data\": [0.09934331296513613, 0.09934331296513613, 0.09934331296513613, 0.09934331296513613, 0.09934331296513613, 0.09934331296513613, 0.09934331296513613, 0.09934331296513613, 0.09934331296513613, 0.09934331296513613, 0.09934331296513613, 0.09934331296513613, 0.09934331296513613, 0.09934331296513613, 0.09934331296513613, 0.09934331296513613, 0.09934331296513613, 0.09934331296513613, 0.09934331296513613, 0.09619700249370727, 0.09619700249370727]}], \"r2_score\": [{\"categories\": [\"0\", \"2\", \"4\", \"6\", \"9\", \"11\", \"13\", \"15\", \"17\", \"20\", \"21\", \"22\", \"23\", \"24\", \"25\", \"26\", \"27\", \"28\", \"29\", \"30\", \"31\"], \"mode\": \"markers\", \"name\": \"r2_score\", \"stepped\": false, \"type\": \"scatter\", \"data\": [0.822843342727342, 0.6077340345611804, 0.623114284094954, 0.7104643490383271, 0.6257346728112295, 0.6587409527529333, 0.6104552345365628, 0.6967717500178077, 0.6110270324485019, 0.49971234680155263, 0.5188309209120598, 0.5832144944754175, 0.4939787677793962, 0.4802255692977714, 0.7033356572208327, 0.5916108449857731, 0.4733491202003639, 0.5623296546424739, 0.514554588306735, 0.8338871313629255, 0.8333321394203344]}, {\"categories\": [\"0\", \"2\", \"4\", \"6\", \"9\", \"11\", \"13\", \"15\", \"17\", \"20\", \"21\", \"22\", \"23\", \"24\", \"25\", \"26\", \"27\", \"28\", \"29\", \"30\", \"31\"], \"mode\": \"lines\", \"name\": \"r2_score_max\", \"stepped\": true, \"type\": \"scatter\", \"data\": [0.822843342727342, 0.822843342727342, 0.822843342727342, 0.822843342727342, 0.822843342727342, 0.822843342727342, 0.822843342727342, 0.822843342727342, 0.822843342727342, 0.822843342727342, 0.822843342727342, 0.822843342727342, 0.822843342727342, 0.822843342727342, 0.822843342727342, 0.822843342727342, 0.822843342727342, 0.822843342727342, 0.822843342727342, 0.8338871313629255, 0.8338871313629255]}]}, \"metricName\": null, \"primaryMetricName\": \"normalized_root_mean_squared_error\", \"showLegend\": false}, \"run_metrics\": [{\"name\": \"experiment_status\", \"run_id\": \"AutoML_dfc2bed6-b984-490e-ae53-7f0c1d8bf704\", \"categories\": [0, 1, 2, 3, 4, 5, 6, 7, 8, 9, 10, 11, 12], \"series\": [{\"data\": [\"DatasetEvaluation\", \"FeaturesGeneration\", \"DatasetFeaturization\", \"DatasetFeaturizationCompleted\", \"ModelSelection\", \"BestRunExplainModel\", \"ModelExplanationDataSetSetup\", \"PickSurrogateModel\", \"EngineeredFeatureExplanations\", \"EngineeredFeatureExplanations\", \"RawFeaturesExplanations\", \"RawFeaturesExplanations\", \"BestRunExplainModel\"]}]}, {\"name\": \"experiment_status_description\", \"run_id\": \"AutoML_dfc2bed6-b984-490e-ae53-7f0c1d8bf704\", \"categories\": [0, 1, 2, 3, 4, 5, 6, 7, 8, 9, 10, 11, 12], \"series\": [{\"data\": [\"Gathering dataset statistics.\", \"Generating features for the dataset.\", \"Beginning to fit featurizers and featurize the dataset.\", \"Completed fit featurizers and featurizing the dataset.\", \"Beginning model selection.\", \"Best run model explanations started\", \"Model explanations data setup completed\", \"Choosing LightGBM as the surrogate model for explanations\", \"Computation of engineered features started\", \"Computation of engineered features completed\", \"Computation of raw features started\", \"Computation of raw features completed\", \"Best run model explanations completed\"]}]}, {\"name\": \"normalized_root_mean_squared_log_error\", \"run_id\": \"AutoML_dfc2bed6-b984-490e-ae53-7f0c1d8bf704\", \"categories\": [0], \"series\": [{\"data\": [0.06575588571652256]}]}, {\"name\": \"normalized_median_absolute_error\", \"run_id\": \"AutoML_dfc2bed6-b984-490e-ae53-7f0c1d8bf704\", \"categories\": [0], \"series\": [{\"data\": [0.041719495196267414]}]}, {\"name\": \"normalized_root_mean_squared_error\", \"run_id\": \"AutoML_dfc2bed6-b984-490e-ae53-7f0c1d8bf704\", \"categories\": [0], \"series\": [{\"data\": [0.09619700249370727]}]}, {\"name\": \"normalized_mean_absolute_error\", \"run_id\": \"AutoML_dfc2bed6-b984-490e-ae53-7f0c1d8bf704\", \"categories\": [0], \"series\": [{\"data\": [0.06389772701377223]}]}, {\"name\": \"root_mean_squared_log_error\", \"run_id\": \"AutoML_dfc2bed6-b984-490e-ae53-7f0c1d8bf704\", \"categories\": [0], \"series\": [{\"data\": [0.23057708337755914]}]}, {\"name\": \"root_mean_squared_error\", \"run_id\": \"AutoML_dfc2bed6-b984-490e-ae53-7f0c1d8bf704\", \"categories\": [0], \"series\": [{\"data\": [46655.738603453014]}]}, {\"name\": \"mean_absolute_percentage_error\", \"run_id\": \"AutoML_dfc2bed6-b984-490e-ae53-7f0c1d8bf704\", \"categories\": [0], \"series\": [{\"data\": [17.46132751931706]}]}, {\"name\": \"r2_score\", \"run_id\": \"AutoML_dfc2bed6-b984-490e-ae53-7f0c1d8bf704\", \"categories\": [0], \"series\": [{\"data\": [0.8338871313629255]}]}, {\"name\": \"median_absolute_error\", \"run_id\": \"AutoML_dfc2bed6-b984-490e-ae53-7f0c1d8bf704\", \"categories\": [0], \"series\": [{\"data\": [20234.03860918009]}]}, {\"name\": \"explained_variance\", \"run_id\": \"AutoML_dfc2bed6-b984-490e-ae53-7f0c1d8bf704\", \"categories\": [0], \"series\": [{\"data\": [0.8339048748637179]}]}, {\"name\": \"spearman_correlation\", \"run_id\": \"AutoML_dfc2bed6-b984-490e-ae53-7f0c1d8bf704\", \"categories\": [0], \"series\": [{\"data\": [0.9200313495801759]}]}, {\"name\": \"mean_absolute_error\", \"run_id\": \"AutoML_dfc2bed6-b984-490e-ae53-7f0c1d8bf704\", \"categories\": [0], \"series\": [{\"data\": [30990.52539713356]}]}], \"run_logs\": \"\\nRun is completed.\", \"graph\": {}, \"widget_settings\": {\"childWidgetDisplay\": \"popup\", \"send_telemetry\": false, \"log_level\": \"INFO\", \"sdk_version\": \"1.51.0\"}, \"loading\": false}"
          },
          "metadata": {}
        }
      ],
      "execution_count": 23,
      "metadata": {
        "gather": {
          "logged": 1704283508352
        },
        "jupyter": {
          "outputs_hidden": false,
          "source_hidden": false
        },
        "nteract": {
          "transient": {
            "deleting": false
          }
        },
        "id": "R6C_yJLLQfAB"
      }
    },
    {
      "cell_type": "code",
      "source": [
        "automl_run.wait_for_completion()"
      ],
      "outputs": [
        {
          "output_type": "execute_result",
          "execution_count": 24,
          "data": {
            "text/plain": "{'runId': 'AutoML_dfc2bed6-b984-490e-ae53-7f0c1d8bf704',\n 'target': 'notebook247912',\n 'status': 'Completed',\n 'startTimeUtc': '2024-01-03T11:46:14.802175Z',\n 'endTimeUtc': '2024-01-03T12:04:45.877873Z',\n 'services': {},\n 'warnings': [{'source': 'JasmineService',\n   'message': 'No scores improved over last 10 iterations, so experiment stopped early. This early stopping behavior can be disabled by setting enable_early_stopping = False in AutoMLConfig for notebook/python SDK runs.'}],\n 'properties': {'num_iterations': '1000',\n  'training_type': 'TrainFull',\n  'acquisition_function': 'EI',\n  'primary_metric': 'normalized_root_mean_squared_error',\n  'train_split': '0',\n  'acquisition_parameter': '0',\n  'num_cross_validation': None,\n  'target': 'notebook247912',\n  'AMLSettingsJsonString': '{\"path\":null,\"name\":\"automl_housing\",\"subscription_id\":\"48a74bb7-9950-4cc1-9caa-5d50f995cc55\",\"resource_group\":\"aml-quickstarts-247912\",\"workspace_name\":\"quick-starts-ws-247912\",\"region\":\"southcentralus\",\"compute_target\":\"notebook247912\",\"spark_service\":null,\"azure_service\":\"remote\",\"many_models\":false,\"pipeline_fetch_max_batch_size\":1,\"enable_batch_run\":true,\"enable_parallel_run\":false,\"num_procs\":null,\"enable_run_restructure\":false,\"start_auxiliary_runs_before_parent_complete\":false,\"enable_code_generation\":true,\"iterations\":1000,\"primary_metric\":\"normalized_root_mean_squared_error\",\"task_type\":\"regression\",\"positive_label\":null,\"data_script\":null,\"test_size\":0.0,\"test_include_predictions_only\":false,\"validation_size\":0.0,\"n_cross_validations\":null,\"y_min\":null,\"y_max\":null,\"num_classes\":null,\"featurization\":\"auto\",\"_ignore_package_version_incompatibilities\":false,\"is_timeseries\":false,\"max_cores_per_iteration\":1,\"max_concurrent_iterations\":1,\"iteration_timeout_minutes\":null,\"mem_in_mb\":null,\"enforce_time_on_windows\":false,\"experiment_timeout_minutes\":30,\"experiment_exit_score\":null,\"partition_column_names\":null,\"whitelist_models\":null,\"blacklist_algos\":[\"TensorFlowDNN\",\"TensorFlowLinearRegressor\"],\"supported_models\":[\"SGD\",\"FastLinearRegressor\",\"OnlineGradientDescentRegressor\",\"ElasticNet\",\"LassoLars\",\"LightGBM\",\"TensorFlowLinearRegressor\",\"TabnetRegressor\",\"GradientBoosting\",\"RandomForest\",\"ExtremeRandomTrees\",\"TensorFlowDNN\",\"KNN\",\"DecisionTree\",\"XGBoostRegressor\"],\"private_models\":[],\"auto_blacklist\":true,\"blacklist_samples_reached\":false,\"exclude_nan_labels\":true,\"verbosity\":20,\"_debug_log\":\"azureml_automl.log\",\"show_warnings\":false,\"model_explainability\":true,\"service_url\":null,\"sdk_url\":null,\"sdk_packages\":null,\"enable_onnx_compatible_models\":false,\"enable_split_onnx_featurizer_estimator_models\":false,\"vm_type\":\"STANDARD_DS3_V2\",\"telemetry_verbosity\":20,\"send_telemetry\":true,\"enable_dnn\":false,\"scenario\":\"AutoML\",\"environment_label\":null,\"save_mlflow\":false,\"enable_categorical_indicators\":false,\"force_text_dnn\":false,\"enable_feature_sweeping\":true,\"enable_early_stopping\":true,\"early_stopping_n_iters\":10,\"arguments\":null,\"dataset_id\":\"a3933cff-3c0e-4214-bf1b-227797da9397\",\"hyperdrive_config\":null,\"validation_dataset_id\":\"4b302d7f-8ae5-4b7b-8b9f-59145e4b8f3e\",\"run_source\":null,\"metrics\":null,\"enable_metric_confidence\":false,\"enable_ensembling\":true,\"enable_stack_ensembling\":true,\"ensemble_iterations\":15,\"enable_tf\":false,\"enable_subsampling\":null,\"subsample_seed\":null,\"enable_nimbusml\":false,\"enable_streaming\":false,\"force_streaming\":false,\"track_child_runs\":true,\"n_best_runs\":1,\"allowed_private_models\":[],\"label_column_name\":\"median_house_value\",\"weight_column_name\":null,\"cv_split_column_names\":null,\"enable_local_managed\":false,\"_local_managed_run_id\":null,\"cost_mode\":1,\"lag_length\":0,\"metric_operation\":\"minimize\",\"preprocess\":true}',\n  'DataPrepJsonString': '{\\\\\"training_data\\\\\": {\\\\\"datasetId\\\\\": \\\\\"a3933cff-3c0e-4214-bf1b-227797da9397\\\\\"}, \\\\\"validation_data\\\\\": {\\\\\"datasetId\\\\\": \\\\\"4b302d7f-8ae5-4b7b-8b9f-59145e4b8f3e\\\\\"}, \\\\\"datasets\\\\\": 0}',\n  'EnableSubsampling': None,\n  'runTemplate': 'AutoML',\n  'azureml.runsource': 'automl',\n  'display_task_type': 'regression',\n  'dependencies_versions': '{\"azureml-dataprep-native\": \"38.0.0\", \"azureml-dataprep\": \"4.10.8\", \"azureml-dataprep-rslex\": \"2.17.12\", \"azureml-train-automl-runtime\": \"1.51.0.post2\", \"azureml-train-automl-client\": \"1.51.0.post1\", \"azureml-training-tabular\": \"1.51.0.post1\", \"azureml-automl-runtime\": \"1.51.0.post1\", \"azureml-automl-core\": \"1.51.0.post1\", \"azureml-mlflow\": \"1.51.0\", \"azureml-datadrift\": \"1.51.0\", \"azureml-pipeline\": \"1.51.0\", \"azureml-contrib-dataset\": \"1.51.0\", \"azureml-contrib-notebook\": \"1.51.0\", \"azureml-accel-models\": \"1.51.0\", \"azureml-automl-dnn-nlp\": \"1.51.0\", \"azureml-pipeline-core\": \"1.51.0\", \"azureml-responsibleai\": \"1.51.0\", \"azureml-contrib-automl-pipeline-steps\": \"1.51.0\", \"azureml-pipeline-steps\": \"1.51.0\", \"azureml-core\": \"1.51.0\", \"azureml-contrib-reinforcementlearning\": \"1.51.0\", \"azureml-contrib-server\": \"1.51.0\", \"azureml-opendatasets\": \"1.51.0\", \"azureml-contrib-services\": \"1.51.0\", \"azureml-telemetry\": \"1.51.0\", \"azureml-train-restclients-hyperdrive\": \"1.51.0\", \"azureml-interpret\": \"1.51.0\", \"azureml-train-core\": \"1.51.0\", \"azureml-tensorboard\": \"1.51.0\", \"azureml-train\": \"1.51.0\", \"azureml-contrib-pipeline-steps\": \"1.51.0\", \"azureml-explain-model\": \"1.51.0\", \"azureml-cli-common\": \"1.51.0\", \"azureml-widgets\": \"1.51.0\", \"azureml-train-automl\": \"1.51.0\", \"azureml-defaults\": \"1.51.0\", \"azureml-contrib-fairness\": \"1.51.0\", \"azureml-sdk\": \"1.51.0\", \"azureml-dataset-runtime\": \"1.51.0\", \"azureml-inference-server-http\": \"0.8.4\"}',\n  '_aml_system_scenario_identification': 'Remote.Parent',\n  'ClientType': 'SDK',\n  'PlatformVersion': 'DPV1',\n  'environment_cpu_name': 'AzureML-AutoML',\n  'environment_cpu_label': 'scikit-upgrade2',\n  'environment_gpu_name': 'AzureML-AutoML-GPU',\n  'environment_gpu_label': 'scikit-upgrade2',\n  'root_attribution': 'automl',\n  'attribution': 'AutoML',\n  'Orchestrator': 'AutoML',\n  'CancelUri': 'https://southcentralus.api.azureml.ms/jasmine/v1.0/subscriptions/48a74bb7-9950-4cc1-9caa-5d50f995cc55/resourceGroups/aml-quickstarts-247912/providers/Microsoft.MachineLearningServices/workspaces/quick-starts-ws-247912/experimentids/4eeab9ad-2e39-4f60-8cef-75907d3fe8cf/cancel/AutoML_dfc2bed6-b984-490e-ae53-7f0c1d8bf704',\n  'ClientSdkVersion': None,\n  'snapshotId': '00000000-0000-0000-0000-000000000000',\n  'SetupRunId': 'AutoML_dfc2bed6-b984-490e-ae53-7f0c1d8bf704_setup',\n  'SetupRunContainerId': 'dcid.AutoML_dfc2bed6-b984-490e-ae53-7f0c1d8bf704_setup',\n  'FeaturizationRunJsonPath': 'featurizer_container.json',\n  'FeaturizationRunId': 'AutoML_dfc2bed6-b984-490e-ae53-7f0c1d8bf704_featurize',\n  'ProblemInfoJsonString': '{\"dataset_num_categorical\": 0, \"is_sparse\": false, \"subsampling\": false, \"has_extra_col\": true, \"dataset_classes\": 3675, \"dataset_features\": 13, \"dataset_samples\": 16512, \"single_frequency_class_detected\": false}',\n  'ModelExplainRunId': 'AutoML_dfc2bed6-b984-490e-ae53-7f0c1d8bf704_ModelExplain'},\n 'inputDatasets': [{'dataset': {'id': 'a3933cff-3c0e-4214-bf1b-227797da9397'}, 'consumptionDetails': {'type': 'RunInput', 'inputName': 'training_data', 'mechanism': 'Direct'}}, {'dataset': {'id': '4b302d7f-8ae5-4b7b-8b9f-59145e4b8f3e'}, 'consumptionDetails': {'type': 'RunInput', 'inputName': 'validation_data', 'mechanism': 'Direct'}}],\n 'outputDatasets': [{'identifier': {'savedId': '9242389b-cb9c-4d41-9080-c131a87a571f'},\n   'outputType': 'RunOutput',\n   'outputDetails': {'outputName': 'full_training_dataset'},\n   'dataset': {\n     \"source\": [\n       \"('workspaceartifactstore', 'ExperimentRun/dcid.AutoML_dfc2bed6-b984-490e-ae53-7f0c1d8bf704/outputs/featurization/data/full_training_dataset.df.parquet')\"\n     ],\n     \"definition\": [\n       \"GetDatastoreFiles\",\n       \"ReadParquetFile\",\n       \"DropColumns\"\n     ],\n     \"registration\": {\n       \"id\": \"9242389b-cb9c-4d41-9080-c131a87a571f\",\n       \"name\": null,\n       \"version\": null,\n       \"workspace\": \"Workspace.create(name='quick-starts-ws-247912', subscription_id='48a74bb7-9950-4cc1-9caa-5d50f995cc55', resource_group='aml-quickstarts-247912')\"\n     }\n   }},\n  {'identifier': {'savedId': 'a976ee5b-e02b-4dec-b2d2-d84b4af0ff3c'},\n   'outputType': 'RunOutput',\n   'outputDetails': {'outputName': 'full_validation_dataset'},\n   'dataset': {\n     \"source\": [\n       \"('workspaceartifactstore', 'ExperimentRun/dcid.AutoML_dfc2bed6-b984-490e-ae53-7f0c1d8bf704/outputs/featurization/data/full_validation_dataset.df.parquet')\"\n     ],\n     \"definition\": [\n       \"GetDatastoreFiles\",\n       \"ReadParquetFile\",\n       \"DropColumns\"\n     ],\n     \"registration\": {\n       \"id\": \"a976ee5b-e02b-4dec-b2d2-d84b4af0ff3c\",\n       \"name\": null,\n       \"version\": null,\n       \"workspace\": \"Workspace.create(name='quick-starts-ws-247912', subscription_id='48a74bb7-9950-4cc1-9caa-5d50f995cc55', resource_group='aml-quickstarts-247912')\"\n     }\n   }}],\n 'logFiles': {},\n 'submittedBy': 'ODL_User 247912'}"
          },
          "metadata": {}
        }
      ],
      "execution_count": 24,
      "metadata": {
        "id": "1HkMvvB2Uh1x",
        "gather": {
          "logged": 1704283511997
        }
      }
    },
    {
      "cell_type": "markdown",
      "source": [
        "## Best Model\n",
        "\n",
        "TODO: In the cell below, get the best model from the automl experiments and display all the properties of the model.\n",
        "\n"
      ],
      "metadata": {
        "id": "XMnAGBD7QfAC"
      }
    },
    {
      "cell_type": "code",
      "source": [
        "# Retrieve and save your best automl model.\n",
        "automl_run, fitted_automl_model = automl_run.get_output() \n",
        "print(fitted_automl_model) #To print\n",
        "import joblib  \n",
        "joblib.dump(fitted_automl_model, \"automl_housing.pkl\")"
      ],
      "outputs": [
        {
          "output_type": "stream",
          "name": "stderr",
          "text": "WARNING:root:The version of the SDK does not match the version the model was trained on.\nWARNING:root:The consistency in the result may not be guaranteed.\nWARNING:root:Package:azureml-automl-core, training version:1.52.0.post1, current version:1.51.0.post1\nPackage:azureml-automl-runtime, training version:1.52.0.post1, current version:1.51.0.post1\nPackage:azureml-core, training version:1.52.0, current version:1.51.0\nPackage:azureml-dataprep, training version:4.11.4, current version:4.10.8\nPackage:azureml-dataprep-rslex, training version:2.18.4, current version:2.17.12\nPackage:azureml-dataset-runtime, training version:1.52.0, current version:1.51.0\nPackage:azureml-defaults, training version:1.52.0, current version:1.51.0\nPackage:azureml-interpret, training version:1.52.0, current version:1.51.0\nPackage:azureml-mlflow, training version:1.52.0, current version:1.51.0\nPackage:azureml-pipeline-core, training version:1.52.0, current version:1.51.0\nPackage:azureml-responsibleai, training version:1.52.0, current version:1.51.0\nPackage:azureml-telemetry, training version:1.52.0, current version:1.51.0\nPackage:azureml-train-automl-client, training version:1.52.0, current version:1.51.0.post1\nPackage:azureml-train-automl-runtime, training version:1.52.0, current version:1.51.0.post2\nPackage:azureml-train-core, training version:1.52.0, current version:1.51.0\nPackage:azureml-train-restclients-hyperdrive, training version:1.52.0, current version:1.51.0\nPackage:azureml-training-tabular, training version:1.52.0, current version:1.51.0.post1\nWARNING:root:Please ensure the version of your local conda dependencies match the version on which your model was trained in order to properly retrieve your model.\n"
        },
        {
          "output_type": "stream",
          "name": "stdout",
          "text": "RegressionPipeline(pipeline=Pipeline(memory=None,\n                                     steps=[('datatransformer',\n                                             DataTransformer(enable_dnn=False, enable_feature_sweeping=True, feature_sweeping_config={}, feature_sweeping_timeout=86400, featurization_config=None, force_text_dnn=False, is_cross_validation=False, is_onnx_compatible=False, observer=None, task='regression', working_dir='/mnt/batch/t...\n                                             PreFittedSoftVotingRegressor(estimators=[('1', Pipeline(memory=None, steps=[('maxabsscaler', MaxAbsScaler(copy=True)), ('xgboostregressor', XGBoostRegressor(n_jobs=1, problem_info=ProblemInfo(gpu_training_param_dict={'processing_unit_type': 'cpu'}), random_state=0, tree_method='auto'))], verbose=False)), ('0', Pipeline(memory=None, steps=[('maxabsscaler', MaxAbsScaler(copy=True)), ('lightgbmregressor', LightGBMRegressor(min_data_in_leaf=20, n_jobs=1, problem_info=ProblemInfo(gpu_training_param_dict={'processing_unit_type': 'cpu'}), random_state=None))], verbose=False))], weights=[0.5833333333333334, 0.4166666666666667]))],\n                                     verbose=False),\n                   stddev=[46653.24674882016])\n"
        },
        {
          "output_type": "execute_result",
          "execution_count": 25,
          "data": {
            "text/plain": "['automl_housing.pkl']"
          },
          "metadata": {}
        }
      ],
      "execution_count": 25,
      "metadata": {
        "gather": {
          "logged": 1704283522382
        },
        "jupyter": {
          "outputs_hidden": false,
          "source_hidden": false
        },
        "nteract": {
          "transient": {
            "deleting": false
          }
        },
        "id": "d9QYLrNaQfAC"
      }
    },
    {
      "cell_type": "code",
      "source": [
        "os.listdir(os.curdir), os.getcwd()"
      ],
      "outputs": [
        {
          "output_type": "execute_result",
          "execution_count": 26,
          "data": {
            "text/plain": "(['.amlignore',\n  '.amlignore.amltmp',\n  '.azureml',\n  '.ipynb_aml_checkpoints',\n  'automl-housing',\n  'automl.ipynb',\n  'automl.ipynb.amltmp',\n  'automl.log',\n  'automl_housing.pkl',\n  'azureml_automl.log',\n  'testset.csv',\n  'trainset.csv'],\n '/mnt/batch/tasks/shared/LS_root/mounts/clusters/notebook247912/code/Users/odl_user_247912/nd00333-capstone-master/nd00333-capstone-master/starter_file/automated_ml')"
          },
          "metadata": {}
        }
      ],
      "execution_count": 26,
      "metadata": {
        "collapsed": true,
        "jupyter": {
          "source_hidden": false,
          "outputs_hidden": false
        },
        "nteract": {
          "transient": {
            "deleting": false
          }
        },
        "gather": {
          "logged": 1704283522949
        }
      }
    },
    {
      "cell_type": "code",
      "source": [
        "automl_run_metrics = automl_run.get_metrics()\n",
        "automl_run_metrics"
      ],
      "outputs": [
        {
          "output_type": "execute_result",
          "execution_count": 27,
          "data": {
            "text/plain": "{'normalized_root_mean_squared_error': 0.09619700249370727,\n 'root_mean_squared_log_error': 0.23057708337755914,\n 'r2_score': 0.8338871313629255,\n 'spearman_correlation': 0.9200313495801759,\n 'root_mean_squared_error': 46655.738603453014,\n 'explained_variance': 0.8339048748637179,\n 'median_absolute_error': 20234.03860918009,\n 'normalized_root_mean_squared_log_error': 0.06575588571652256,\n 'normalized_mean_absolute_error': 0.06389772701377223,\n 'mean_absolute_error': 30990.52539713356,\n 'mean_absolute_percentage_error': 17.46132751931706,\n 'normalized_median_absolute_error': 0.041719495196267414,\n 'predicted_true': 'aml://artifactId/ExperimentRun/dcid.AutoML_dfc2bed6-b984-490e-ae53-7f0c1d8bf704_30/predicted_true',\n 'residuals': 'aml://artifactId/ExperimentRun/dcid.AutoML_dfc2bed6-b984-490e-ae53-7f0c1d8bf704_30/residuals'}"
          },
          "metadata": {}
        }
      ],
      "execution_count": 27,
      "metadata": {
        "gather": {
          "logged": 1704283523924
        },
        "jupyter": {
          "outputs_hidden": false,
          "source_hidden": false
        },
        "nteract": {
          "transient": {
            "deleting": false
          }
        },
        "id": "JgNUewNBQfAC"
      }
    },
    {
      "cell_type": "code",
      "source": [
        "print('Best Run ID', automl_run.id)\n",
        "print('\\n MAE', automl_run_metrics['mean_absolute_error'])"
      ],
      "outputs": [
        {
          "output_type": "stream",
          "name": "stdout",
          "text": "Bets Run ID AutoML_dfc2bed6-b984-490e-ae53-7f0c1d8bf704_30\n\n MAE 30990.52539713356\n"
        }
      ],
      "execution_count": 28,
      "metadata": {
        "id": "JkbirWmHUz-g",
        "gather": {
          "logged": 1704283524519
        }
      }
    },
    {
      "cell_type": "code",
      "source": [
        "model = automl_run.register_model(model_name='automl-housing', model_path='Users/odl_user_247912/nd00333-capstone-master/nd00333-capstone-master/starter_file/automated_ml/automl_housing.pkl')"
      ],
      "outputs": [
        {
          "output_type": "error",
          "ename": "ModelPathNotFoundException",
          "evalue": "ModelPathNotFoundException:\n\tMessage: Could not locate the provided model_path Users/odl_user_247912/nd00333-capstone-master/nd00333-capstone-master/starter_file/automated_ml/automl_housing.pkl in the set of files uploaded to the run: ['automl_driver.py', 'explanation/68cdc171/eval_data_viz.interpret.json', 'explanation/68cdc171/expected_values.interpret.json', 'explanation/68cdc171/features.interpret.json', 'explanation/68cdc171/global_names/0.interpret.json', 'explanation/68cdc171/global_rank/0.interpret.json', 'explanation/68cdc171/global_values/0.interpret.json', 'explanation/68cdc171/local_importance_values.interpret.json', 'explanation/68cdc171/rich_metadata.interpret.json', 'explanation/68cdc171/true_ys_viz.interpret.json', 'explanation/68cdc171/visualization_dict.interpret.json', 'explanation/68cdc171/ys_pred_viz.interpret.json', 'explanation/6d4ef608/eval_data_viz.interpret.json', 'explanation/6d4ef608/expected_values.interpret.json', 'explanation/6d4ef608/features.interpret.json', 'explanation/6d4ef608/global_names/0.interpret.json', 'explanation/6d4ef608/global_rank/0.interpret.json', 'explanation/6d4ef608/global_values/0.interpret.json', 'explanation/6d4ef608/local_importance_values.interpret.json', 'explanation/6d4ef608/rich_metadata.interpret.json', 'explanation/6d4ef608/true_ys_viz.interpret.json', 'explanation/6d4ef608/visualization_dict.interpret.json', 'explanation/6d4ef608/ys_pred_viz.interpret.json', 'logs/azureml/azureml_automl.log', 'outputs/conda_env_v_1_0_0.yml', 'outputs/engineered_feature_names.json', 'outputs/env_dependencies.json', 'outputs/featurization_summary.json', 'outputs/generated_code/script.py', 'outputs/generated_code/script_run_notebook.ipynb', 'outputs/model.pkl', 'outputs/pipeline_graph.json', 'outputs/run_id.txt', 'outputs/scoring_file_pbi_v_1_0_0.py', 'outputs/scoring_file_v_1_0_0.py', 'outputs/scoring_file_v_2_0_0.py', 'predicted_true', 'residuals', 'system_logs/cs_capability/cs-capability.log', 'system_logs/hosttools_capability/hosttools-capability.log', 'system_logs/lifecycler/execution-wrapper.log', 'system_logs/lifecycler/lifecycler.log', 'system_logs/lifecycler/vm-bootstrapper.log', 'system_logs/metrics_capability/metrics-capability.log', 'system_logs/snapshot_capability/snapshot-capability.log', 'user_logs/std_log.txt']\n                See https://aka.ms/run-logging for more details.\n\tInnerException None\n\tErrorResponse \n{\n    \"error\": {\n        \"message\": \"Could not locate the provided model_path Users/odl_user_247912/nd00333-capstone-master/nd00333-capstone-master/starter_file/automated_ml/automl_housing.pkl in the set of files uploaded to the run: ['automl_driver.py', 'explanation/68cdc171/eval_data_viz.interpret.json', 'explanation/68cdc171/expected_values.interpret.json', 'explanation/68cdc171/features.interpret.json', 'explanation/68cdc171/global_names/0.interpret.json', 'explanation/68cdc171/global_rank/0.interpret.json', 'explanation/68cdc171/global_values/0.interpret.json', 'explanation/68cdc171/local_importance_values.interpret.json', 'explanation/68cdc171/rich_metadata.interpret.json', 'explanation/68cdc171/true_ys_viz.interpret.json', 'explanation/68cdc171/visualization_dict.interpret.json', 'explanation/68cdc171/ys_pred_viz.interpret.json', 'explanation/6d4ef608/eval_data_viz.interpret.json', 'explanation/6d4ef608/expected_values.interpret.json', 'explanation/6d4ef608/features.interpret.json', 'explanation/6d4ef608/global_names/0.interpret.json', 'explanation/6d4ef608/global_rank/0.interpret.json', 'explanation/6d4ef608/global_values/0.interpret.json', 'explanation/6d4ef608/local_importance_values.interpret.json', 'explanation/6d4ef608/rich_metadata.interpret.json', 'explanation/6d4ef608/true_ys_viz.interpret.json', 'explanation/6d4ef608/visualization_dict.interpret.json', 'explanation/6d4ef608/ys_pred_viz.interpret.json', 'logs/azureml/azureml_automl.log', 'outputs/conda_env_v_1_0_0.yml', 'outputs/engineered_feature_names.json', 'outputs/env_dependencies.json', 'outputs/featurization_summary.json', 'outputs/generated_code/script.py', 'outputs/generated_code/script_run_notebook.ipynb', 'outputs/model.pkl', 'outputs/pipeline_graph.json', 'outputs/run_id.txt', 'outputs/scoring_file_pbi_v_1_0_0.py', 'outputs/scoring_file_v_1_0_0.py', 'outputs/scoring_file_v_2_0_0.py', 'predicted_true', 'residuals', 'system_logs/cs_capability/cs-capability.log', 'system_logs/hosttools_capability/hosttools-capability.log', 'system_logs/lifecycler/execution-wrapper.log', 'system_logs/lifecycler/lifecycler.log', 'system_logs/lifecycler/vm-bootstrapper.log', 'system_logs/metrics_capability/metrics-capability.log', 'system_logs/snapshot_capability/snapshot-capability.log', 'user_logs/std_log.txt']\\n                See https://aka.ms/run-logging for more details.\"\n    }\n}",
          "traceback": [
            "\u001b[0;31m---------------------------------------------------------------------------\u001b[0m",
            "\u001b[0;31mModelPathNotFoundException\u001b[0m                Traceback (most recent call last)",
            "Cell \u001b[0;32mIn[30], line 1\u001b[0m\n\u001b[0;32m----> 1\u001b[0m model \u001b[38;5;241m=\u001b[39m \u001b[43mautoml_run\u001b[49m\u001b[38;5;241;43m.\u001b[39;49m\u001b[43mregister_model\u001b[49m\u001b[43m(\u001b[49m\u001b[43mmodel_name\u001b[49m\u001b[38;5;241;43m=\u001b[39;49m\u001b[38;5;124;43m'\u001b[39;49m\u001b[38;5;124;43mautoml-housing\u001b[39;49m\u001b[38;5;124;43m'\u001b[39;49m\u001b[43m,\u001b[49m\u001b[43m \u001b[49m\u001b[43mmodel_path\u001b[49m\u001b[38;5;241;43m=\u001b[39;49m\u001b[38;5;124;43m'\u001b[39;49m\u001b[38;5;124;43mUsers/odl_user_247912/nd00333-capstone-master/nd00333-capstone-master/starter_file/automated_ml/automl_housing.pkl\u001b[39;49m\u001b[38;5;124;43m'\u001b[39;49m\u001b[43m)\u001b[49m\n",
            "File \u001b[0;32m/anaconda/envs/azureml_py38/lib/python3.8/site-packages/azureml/core/run.py:2275\u001b[0m, in \u001b[0;36mRun.register_model\u001b[0;34m(self, model_name, model_path, tags, properties, model_framework, model_framework_version, description, datasets, sample_input_dataset, sample_output_dataset, resource_configuration, **kwargs)\u001b[0m\n\u001b[1;32m   2235\u001b[0m \u001b[38;5;250m\u001b[39m\u001b[38;5;124;03m\"\"\"Register a model for operationalization.\u001b[39;00m\n\u001b[1;32m   2236\u001b[0m \n\u001b[1;32m   2237\u001b[0m \u001b[38;5;124;03m.. remarks::\u001b[39;00m\n\u001b[0;32m   (...)\u001b[0m\n\u001b[1;32m   2272\u001b[0m \u001b[38;5;124;03m:rtype: azureml.core.model.Model\u001b[39;00m\n\u001b[1;32m   2273\u001b[0m \u001b[38;5;124;03m\"\"\"\u001b[39;00m\n\u001b[1;32m   2274\u001b[0m model_name_validation(model_name)\n\u001b[0;32m-> 2275\u001b[0m \u001b[38;5;28;01mreturn\u001b[39;00m \u001b[38;5;28;43mself\u001b[39;49m\u001b[38;5;241;43m.\u001b[39;49m\u001b[43m_client\u001b[49m\u001b[38;5;241;43m.\u001b[39;49m\u001b[43mregister_model\u001b[49m\u001b[43m(\u001b[49m\n\u001b[1;32m   2276\u001b[0m \u001b[43m    \u001b[49m\u001b[43mmodel_name\u001b[49m\u001b[43m,\u001b[49m\u001b[43m \u001b[49m\u001b[43mmodel_path\u001b[49m\u001b[43m,\u001b[49m\u001b[43m \u001b[49m\u001b[43mtags\u001b[49m\u001b[43m,\u001b[49m\u001b[43m \u001b[49m\u001b[43mproperties\u001b[49m\u001b[43m,\u001b[49m\u001b[43m \u001b[49m\u001b[43mmodel_framework\u001b[49m\u001b[43m,\u001b[49m\u001b[43m \u001b[49m\u001b[43mmodel_framework_version\u001b[49m\u001b[43m,\u001b[49m\n\u001b[1;32m   2277\u001b[0m \u001b[43m    \u001b[49m\u001b[43mdescription\u001b[49m\u001b[38;5;241;43m=\u001b[39;49m\u001b[43mdescription\u001b[49m\u001b[43m,\u001b[49m\u001b[43m \u001b[49m\u001b[43mdatasets\u001b[49m\u001b[38;5;241;43m=\u001b[39;49m\u001b[43mdatasets\u001b[49m\u001b[43m,\u001b[49m\u001b[43m \u001b[49m\u001b[43munpack\u001b[49m\u001b[38;5;241;43m=\u001b[39;49m\u001b[38;5;28;43;01mFalse\u001b[39;49;00m\u001b[43m,\u001b[49m\u001b[43m \u001b[49m\u001b[43msample_input_dataset\u001b[49m\u001b[38;5;241;43m=\u001b[39;49m\u001b[43msample_input_dataset\u001b[49m\u001b[43m,\u001b[49m\n\u001b[1;32m   2278\u001b[0m \u001b[43m    \u001b[49m\u001b[43msample_output_dataset\u001b[49m\u001b[38;5;241;43m=\u001b[39;49m\u001b[43msample_output_dataset\u001b[49m\u001b[43m,\u001b[49m\u001b[43m \u001b[49m\u001b[43mresource_configuration\u001b[49m\u001b[38;5;241;43m=\u001b[39;49m\u001b[43mresource_configuration\u001b[49m\u001b[43m,\u001b[49m\u001b[43m \u001b[49m\u001b[38;5;241;43m*\u001b[39;49m\u001b[38;5;241;43m*\u001b[39;49m\u001b[43mkwargs\u001b[49m\u001b[43m)\u001b[49m\n",
            "File \u001b[0;32m/anaconda/envs/azureml_py38/lib/python3.8/site-packages/azureml/_run_impl/run_history_facade.py:469\u001b[0m, in \u001b[0;36mRunHistoryFacade.register_model\u001b[0;34m(self, model_name, model_path, tags, properties, model_framework, model_framework_version, asset_id, sample_input_dataset, sample_output_dataset, resource_configuration, **kwargs)\u001b[0m\n\u001b[1;32m    467\u001b[0m \u001b[38;5;28;01mif\u001b[39;00m \u001b[38;5;129;01mnot\u001b[39;00m cloud_file_paths:\n\u001b[1;32m    468\u001b[0m     run_files \u001b[38;5;241m=\u001b[39m \u001b[38;5;28mlist\u001b[39m(\u001b[38;5;28mself\u001b[39m\u001b[38;5;241m.\u001b[39martifacts\u001b[38;5;241m.\u001b[39mget_file_paths(\u001b[38;5;28mself\u001b[39m\u001b[38;5;241m.\u001b[39m_origin, \u001b[38;5;28mself\u001b[39m\u001b[38;5;241m.\u001b[39m_data_container_id))\n\u001b[0;32m--> 469\u001b[0m     \u001b[38;5;28;01mraise\u001b[39;00m ModelPathNotFoundException(\n\u001b[1;32m    470\u001b[0m \u001b[38;5;250m        \u001b[39m\u001b[38;5;124;03m\"\"\"Could not locate the provided model_path {} in the set of files uploaded to the run: {}\u001b[39;00m\n\u001b[1;32m    471\u001b[0m \u001b[38;5;124;03m        See https://aka.ms/run-logging for more details.\"\"\"\u001b[39;00m\u001b[38;5;241m.\u001b[39mformat(model_path, \u001b[38;5;28mstr\u001b[39m(run_files)))\n\u001b[1;32m    472\u001b[0m artifacts \u001b[38;5;241m=\u001b[39m [{\u001b[38;5;124m\"\u001b[39m\u001b[38;5;124mprefix\u001b[39m\u001b[38;5;124m\"\u001b[39m: artifact_prefix_id}]\n\u001b[1;32m    473\u001b[0m metadata_dict \u001b[38;5;241m=\u001b[39m \u001b[38;5;28;01mNone\u001b[39;00m\n",
            "\u001b[0;31mModelPathNotFoundException\u001b[0m: ModelPathNotFoundException:\n\tMessage: Could not locate the provided model_path Users/odl_user_247912/nd00333-capstone-master/nd00333-capstone-master/starter_file/automated_ml/automl_housing.pkl in the set of files uploaded to the run: ['automl_driver.py', 'explanation/68cdc171/eval_data_viz.interpret.json', 'explanation/68cdc171/expected_values.interpret.json', 'explanation/68cdc171/features.interpret.json', 'explanation/68cdc171/global_names/0.interpret.json', 'explanation/68cdc171/global_rank/0.interpret.json', 'explanation/68cdc171/global_values/0.interpret.json', 'explanation/68cdc171/local_importance_values.interpret.json', 'explanation/68cdc171/rich_metadata.interpret.json', 'explanation/68cdc171/true_ys_viz.interpret.json', 'explanation/68cdc171/visualization_dict.interpret.json', 'explanation/68cdc171/ys_pred_viz.interpret.json', 'explanation/6d4ef608/eval_data_viz.interpret.json', 'explanation/6d4ef608/expected_values.interpret.json', 'explanation/6d4ef608/features.interpret.json', 'explanation/6d4ef608/global_names/0.interpret.json', 'explanation/6d4ef608/global_rank/0.interpret.json', 'explanation/6d4ef608/global_values/0.interpret.json', 'explanation/6d4ef608/local_importance_values.interpret.json', 'explanation/6d4ef608/rich_metadata.interpret.json', 'explanation/6d4ef608/true_ys_viz.interpret.json', 'explanation/6d4ef608/visualization_dict.interpret.json', 'explanation/6d4ef608/ys_pred_viz.interpret.json', 'logs/azureml/azureml_automl.log', 'outputs/conda_env_v_1_0_0.yml', 'outputs/engineered_feature_names.json', 'outputs/env_dependencies.json', 'outputs/featurization_summary.json', 'outputs/generated_code/script.py', 'outputs/generated_code/script_run_notebook.ipynb', 'outputs/model.pkl', 'outputs/pipeline_graph.json', 'outputs/run_id.txt', 'outputs/scoring_file_pbi_v_1_0_0.py', 'outputs/scoring_file_v_1_0_0.py', 'outputs/scoring_file_v_2_0_0.py', 'predicted_true', 'residuals', 'system_logs/cs_capability/cs-capability.log', 'system_logs/hosttools_capability/hosttools-capability.log', 'system_logs/lifecycler/execution-wrapper.log', 'system_logs/lifecycler/lifecycler.log', 'system_logs/lifecycler/vm-bootstrapper.log', 'system_logs/metrics_capability/metrics-capability.log', 'system_logs/snapshot_capability/snapshot-capability.log', 'user_logs/std_log.txt']\n                See https://aka.ms/run-logging for more details.\n\tInnerException None\n\tErrorResponse \n{\n    \"error\": {\n        \"message\": \"Could not locate the provided model_path Users/odl_user_247912/nd00333-capstone-master/nd00333-capstone-master/starter_file/automated_ml/automl_housing.pkl in the set of files uploaded to the run: ['automl_driver.py', 'explanation/68cdc171/eval_data_viz.interpret.json', 'explanation/68cdc171/expected_values.interpret.json', 'explanation/68cdc171/features.interpret.json', 'explanation/68cdc171/global_names/0.interpret.json', 'explanation/68cdc171/global_rank/0.interpret.json', 'explanation/68cdc171/global_values/0.interpret.json', 'explanation/68cdc171/local_importance_values.interpret.json', 'explanation/68cdc171/rich_metadata.interpret.json', 'explanation/68cdc171/true_ys_viz.interpret.json', 'explanation/68cdc171/visualization_dict.interpret.json', 'explanation/68cdc171/ys_pred_viz.interpret.json', 'explanation/6d4ef608/eval_data_viz.interpret.json', 'explanation/6d4ef608/expected_values.interpret.json', 'explanation/6d4ef608/features.interpret.json', 'explanation/6d4ef608/global_names/0.interpret.json', 'explanation/6d4ef608/global_rank/0.interpret.json', 'explanation/6d4ef608/global_values/0.interpret.json', 'explanation/6d4ef608/local_importance_values.interpret.json', 'explanation/6d4ef608/rich_metadata.interpret.json', 'explanation/6d4ef608/true_ys_viz.interpret.json', 'explanation/6d4ef608/visualization_dict.interpret.json', 'explanation/6d4ef608/ys_pred_viz.interpret.json', 'logs/azureml/azureml_automl.log', 'outputs/conda_env_v_1_0_0.yml', 'outputs/engineered_feature_names.json', 'outputs/env_dependencies.json', 'outputs/featurization_summary.json', 'outputs/generated_code/script.py', 'outputs/generated_code/script_run_notebook.ipynb', 'outputs/model.pkl', 'outputs/pipeline_graph.json', 'outputs/run_id.txt', 'outputs/scoring_file_pbi_v_1_0_0.py', 'outputs/scoring_file_v_1_0_0.py', 'outputs/scoring_file_v_2_0_0.py', 'predicted_true', 'residuals', 'system_logs/cs_capability/cs-capability.log', 'system_logs/hosttools_capability/hosttools-capability.log', 'system_logs/lifecycler/execution-wrapper.log', 'system_logs/lifecycler/lifecycler.log', 'system_logs/lifecycler/vm-bootstrapper.log', 'system_logs/metrics_capability/metrics-capability.log', 'system_logs/snapshot_capability/snapshot-capability.log', 'user_logs/std_log.txt']\\n                See https://aka.ms/run-logging for more details.\"\n    }\n}"
          ]
        }
      ],
      "execution_count": 30,
      "metadata": {
        "jupyter": {
          "source_hidden": false,
          "outputs_hidden": false
        },
        "nteract": {
          "transient": {
            "deleting": false
          }
        },
        "gather": {
          "logged": 1704283805164
        }
      }
    }
  ],
  "metadata": {
    "kernel_info": {
      "name": "python38-azureml"
    },
    "kernelspec": {
      "name": "python38-azureml",
      "language": "python",
      "display_name": "Python 3.8 - AzureML"
    },
    "language_info": {
      "name": "python",
      "version": "3.8.5",
      "mimetype": "text/x-python",
      "codemirror_mode": {
        "name": "ipython",
        "version": 3
      },
      "pygments_lexer": "ipython3",
      "nbconvert_exporter": "python",
      "file_extension": ".py"
    },
    "nteract": {
      "version": "nteract-front-end@1.0.0"
    },
    "colab": {
      "name": "automl.ipynb",
      "provenance": [],
      "collapsed_sections": []
    },
    "microsoft": {
      "host": {
        "AzureML": {
          "notebookHasBeenCompleted": true
        }
      },
      "ms_spell_check": {
        "ms_spell_check_language": "en"
      }
    }
  },
  "nbformat": 4,
  "nbformat_minor": 0
}
